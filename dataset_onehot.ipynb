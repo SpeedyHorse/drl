{
 "cells": [
  {
   "cell_type": "code",
   "execution_count": 1,
   "id": "6882b291",
   "metadata": {},
   "outputs": [],
   "source": [
    "import pandas as pd\n",
    "from glob import glob\n",
    "import flow_package as f_p\n",
    "from imblearn.over_sampling import SMOTENC\n",
    "from sklearn.model_selection import train_test_split"
   ]
  },
  {
   "cell_type": "code",
   "execution_count": 2,
   "id": "d407b857",
   "metadata": {},
   "outputs": [
    {
     "name": "stdout",
     "output_type": "stream",
     "text": [
      "./raw_after_filtered/cicids2017/data/DoS-Wednesday-WorkingHours.pcap_ISCX.csv_005.csv\n",
      "./raw_after_filtered/cicids2017/data/DoS-Wednesday-WorkingHours.pcap_ISCX.csv_011.csv\n",
      "./raw_after_filtered/cicids2017/data/Infiltration-Thursday-WorkingHours-Afternoon.pcap_ISCX.csv_003.csv\n",
      "./raw_after_filtered/cicids2017/data/Bruteforce-Tuesday-WorkingHours.pcap_ISCX.csv_001.csv\n",
      "./raw_after_filtered/cicids2017/data/Bruteforce-Tuesday-WorkingHours.pcap_ISCX.csv_000.csv\n",
      "./raw_after_filtered/cicids2017/data/Infiltration-Thursday-WorkingHours-Afternoon.pcap_ISCX.csv_002.csv\n",
      "./raw_after_filtered/cicids2017/data/DoS-Wednesday-WorkingHours.pcap_ISCX.csv_010.csv\n",
      "./raw_after_filtered/cicids2017/data/DoS-Wednesday-WorkingHours.pcap_ISCX.csv_004.csv\n",
      "./raw_after_filtered/cicids2017/data/DoS-Wednesday-WorkingHours.pcap_ISCX.csv_012.csv\n",
      "./raw_after_filtered/cicids2017/data/DoS-Wednesday-WorkingHours.pcap_ISCX.csv_006.csv\n",
      "./raw_after_filtered/cicids2017/data/Infiltration-Thursday-WorkingHours-Afternoon.pcap_ISCX.csv_000.csv\n",
      "./raw_after_filtered/cicids2017/data/Bruteforce-Tuesday-WorkingHours.pcap_ISCX.csv_002.csv\n",
      "./raw_after_filtered/cicids2017/data/Bruteforce-Tuesday-WorkingHours.pcap_ISCX.csv_003.csv\n",
      "./raw_after_filtered/cicids2017/data/Infiltration-Thursday-WorkingHours-Afternoon.pcap_ISCX.csv_001.csv\n",
      "./raw_after_filtered/cicids2017/data/DoS-Wednesday-WorkingHours.pcap_ISCX.csv_007.csv\n",
      "./raw_after_filtered/cicids2017/data/DoS-Wednesday-WorkingHours.pcap_ISCX.csv_013.csv\n",
      "./raw_after_filtered/cicids2017/data/Benign-Monday-WorkingHours.pcap_ISCX.csv_008.csv\n",
      "./raw_after_filtered/cicids2017/data/DoS-Wednesday-WorkingHours.pcap_ISCX.csv_003.csv\n",
      "./raw_after_filtered/cicids2017/data/Infiltration-Thursday-WorkingHours-Afternoon.pcap_ISCX.csv_005.csv\n",
      "./raw_after_filtered/cicids2017/data/Bruteforce-Tuesday-WorkingHours.pcap_ISCX.csv_007.csv\n",
      "./raw_after_filtered/cicids2017/data/Bruteforce-Tuesday-WorkingHours.pcap_ISCX.csv_006.csv\n",
      "./raw_after_filtered/cicids2017/data/Infiltration-Thursday-WorkingHours-Afternoon.pcap_ISCX.csv_004.csv\n",
      "./raw_after_filtered/cicids2017/data/DoS-Wednesday-WorkingHours.pcap_ISCX.csv_002.csv\n",
      "./raw_after_filtered/cicids2017/data/Benign-Monday-WorkingHours.pcap_ISCX.csv_009.csv\n",
      "./raw_after_filtered/cicids2017/data/DoS-Wednesday-WorkingHours.pcap_ISCX.csv_000.csv\n",
      "./raw_after_filtered/cicids2017/data/Bruteforce-Tuesday-WorkingHours.pcap_ISCX.csv_004.csv\n",
      "./raw_after_filtered/cicids2017/data/Bruteforce-Tuesday-WorkingHours.pcap_ISCX.csv_005.csv\n",
      "./raw_after_filtered/cicids2017/data/DoS-Wednesday-WorkingHours.pcap_ISCX.csv_001.csv\n",
      "./raw_after_filtered/cicids2017/data/DDoS-Friday-WorkingHours-Afternoon.pcap_ISCX.csv_004.csv\n",
      "./raw_after_filtered/cicids2017/data/DDoS-Friday-WorkingHours-Afternoon.pcap_ISCX.csv_000.csv\n",
      "./raw_after_filtered/cicids2017/data/WebAttacks-Thursday-WorkingHours-Morning.pcap_ISCX.csv_003.csv\n",
      "./raw_after_filtered/cicids2017/data/WebAttacks-Thursday-WorkingHours-Morning.pcap_ISCX.csv_002.csv\n",
      "./raw_after_filtered/cicids2017/data/DDoS-Friday-WorkingHours-Afternoon.pcap_ISCX.csv_001.csv\n",
      "./raw_after_filtered/cicids2017/data/DDoS-Friday-WorkingHours-Afternoon.pcap_ISCX.csv_003.csv\n",
      "./raw_after_filtered/cicids2017/data/WebAttacks-Thursday-WorkingHours-Morning.pcap_ISCX.csv_000.csv\n",
      "./raw_after_filtered/cicids2017/data/WebAttacks-Thursday-WorkingHours-Morning.pcap_ISCX.csv_001.csv\n",
      "./raw_after_filtered/cicids2017/data/DDoS-Friday-WorkingHours-Afternoon.pcap_ISCX.csv_002.csv\n",
      "./raw_after_filtered/cicids2017/data/Benign-Monday-WorkingHours.pcap_ISCX.csv_007.csv\n",
      "./raw_after_filtered/cicids2017/data/Bruteforce-Tuesday-WorkingHours.pcap_ISCX.csv_008.csv\n",
      "./raw_after_filtered/cicids2017/data/Benign-Monday-WorkingHours.pcap_ISCX.csv_006.csv\n",
      "./raw_after_filtered/cicids2017/data/Benign-Monday-WorkingHours.pcap_ISCX.csv_010.csv\n",
      "./raw_after_filtered/cicids2017/data/Benign-Monday-WorkingHours.pcap_ISCX.csv_004.csv\n",
      "./raw_after_filtered/cicids2017/data/Portscan-Friday-WorkingHours-Afternoon.pcap_ISCX.csv_004.csv\n",
      "./raw_after_filtered/cicids2017/data/Portscan-Friday-WorkingHours-Afternoon.pcap_ISCX.csv_005.csv\n",
      "./raw_after_filtered/cicids2017/data/Benign-Monday-WorkingHours.pcap_ISCX.csv_005.csv\n",
      "./raw_after_filtered/cicids2017/data/Botnet-Friday-WorkingHours-Morning.pcap_ISCX.csv_000.csv\n",
      "./raw_after_filtered/cicids2017/data/Benign-Monday-WorkingHours.pcap_ISCX.csv_001.csv\n",
      "./raw_after_filtered/cicids2017/data/Portscan-Friday-WorkingHours-Afternoon.pcap_ISCX.csv_001.csv\n",
      "./raw_after_filtered/cicids2017/data/Portscan-Friday-WorkingHours-Afternoon.pcap_ISCX.csv_000.csv\n",
      "./raw_after_filtered/cicids2017/data/Benign-Monday-WorkingHours.pcap_ISCX.csv_000.csv\n",
      "./raw_after_filtered/cicids2017/data/Botnet-Friday-WorkingHours-Morning.pcap_ISCX.csv_001.csv\n",
      "./raw_after_filtered/cicids2017/data/Benign-Monday-WorkingHours.pcap_ISCX.csv_002.csv\n",
      "./raw_after_filtered/cicids2017/data/Botnet-Friday-WorkingHours-Morning.pcap_ISCX.csv_003.csv\n",
      "./raw_after_filtered/cicids2017/data/DoS-Wednesday-WorkingHours.pcap_ISCX.csv_009.csv\n",
      "./raw_after_filtered/cicids2017/data/Portscan-Friday-WorkingHours-Afternoon.pcap_ISCX.csv_002.csv\n",
      "./raw_after_filtered/cicids2017/data/Portscan-Friday-WorkingHours-Afternoon.pcap_ISCX.csv_003.csv\n",
      "./raw_after_filtered/cicids2017/data/DoS-Wednesday-WorkingHours.pcap_ISCX.csv_008.csv\n",
      "./raw_after_filtered/cicids2017/data/Botnet-Friday-WorkingHours-Morning.pcap_ISCX.csv_002.csv\n",
      "./raw_after_filtered/cicids2017/data/Benign-Monday-WorkingHours.pcap_ISCX.csv_003.csv\n",
      "(2830743, 68)\n"
     ]
    }
   ],
   "source": [
    "files = glob(\"./raw_after_filtered/cicids2017/data/*.csv\")\n",
    "df = pd.DataFrame()\n",
    "\n",
    "for file in files:\n",
    "    print(file)\n",
    "    df_tmp = pd.read_csv(file)\n",
    "    df = pd.concat([df, df_tmp])\n",
    "else:\n",
    "    print(df.shape)\n"
   ]
  },
  {
   "cell_type": "code",
   "execution_count": null,
   "id": "6b522d89",
   "metadata": {},
   "outputs": [],
   "source": [
    "df = df.dropna(how=\"any\").dropna(axis=1, how=\"all\")\n",
    "\n",
    "df = df.reset_index(drop=True).drop(columns=[\"Unnamed: 0\"])\n",
    "df, ohe = f_p.ohe_hot_encoding(df, categorical_list=[\"Protocol\", \"Destination Port\"])\n",
    "\n",
    "print(df[\"Number Label\"].unique())\n",
    "print(df[\"Number Label\"].value_counts())\n",
    "length = len(df[\"Number Label\"].unique())\n",
    "\n",
    "train_data, test_data = train_test_split(df, test_size=0.2, stratify=df[\"Number Label\"], random_state=42)\n",
    "\n",
    "print(train_data[\"Number Label\"].value_counts())\n",
    "print(test_data[\"Number Label\"].value_counts())\n",
    "\n",
    "test_data.to_csv(\"./test.csv\")"
   ]
  },
  {
   "cell_type": "markdown",
   "id": "06e4a054",
   "metadata": {},
   "source": [
    "## Multi"
   ]
  },
  {
   "cell_type": "code",
   "execution_count": null,
   "id": "85e23834",
   "metadata": {},
   "outputs": [],
   "source": [
    "value_counts = df[\"Number Label\"].value_counts().sort_index()\n",
    "\n",
    "value_no2_max = 1000\n",
    "\n",
    "new_df = pd.DataFrame()\n",
    "for i in range(length):\n",
    "    if value_counts[i] > value_no2_max:\n",
    "        new_df = pd.concat([\n",
    "            new_df,\n",
    "            train_data[train_data[\"Number Label\"] == i].sample(value_no2_max, random_state=1),\n",
    "        ])\n",
    "    else:\n",
    "        new_df = pd.concat([\n",
    "            new_df,\n",
    "            train_data[train_data[\"Number Label\"] == i]\n",
    "        ])"
   ]
  },
  {
   "cell_type": "code",
   "execution_count": null,
   "id": "281c36ad",
   "metadata": {},
   "outputs": [],
   "source": [
    "x_df = new_df.drop(columns=[\"Number Label\"])\n",
    "y_df = new_df[\"Number Label\"]\n",
    "\n",
    "smote_nc = SMOTENC(\n",
    "    categorical_features=[x_df.columns.get_loc(label) for label in ohe],\n",
    "    random_state=42,\n",
    "    k_neighbors=3,\n",
    "    sampling_strategy=\"minority\",\n",
    ")\n",
    "\n",
    "x_resampled, y_resampled = smote_nc.fit_resample(x_df, y_df)\n",
    "\n",
    "x_re_df = pd.DataFrame(x_resampled)\n",
    "y_re_df = pd.DataFrame(y_resampled, columns=[\"Number Label\"])\n",
    "\n",
    "new_re_df = pd.concat([x_re_df, y_re_df], axis=1)\n",
    "\n",
    "new_re_df.to_csv(\"./onehot.csv\")"
   ]
  },
  {
   "cell_type": "markdown",
   "id": "6413ed5e",
   "metadata": {},
   "source": [
    "## Binary"
   ]
  },
  {
   "cell_type": "code",
   "execution_count": null,
   "id": "2be1cd08",
   "metadata": {},
   "outputs": [],
   "source": [
    "train_data[\"Number Label\"] = train_data[\"Number Label\"].apply(lambda n_label: 0 if n_label == 0 else 1)\n",
    "value_counts = train_data[\"Number Label\"].value_counts().sort_index()\n",
    "\n",
    "value_no2_max = 10000\n",
    "\n",
    "new_df = pd.DataFrame()\n",
    "for i in [0, 1]:\n",
    "    if value_counts[i] > value_no2_max:\n",
    "        new_df = pd.concat([\n",
    "            new_df,\n",
    "            train_data[train_data[\"Number Label\"] == i].sample(value_no2_max, random_state=1),\n",
    "        ])\n",
    "    else:\n",
    "        new_df = pd.concat([\n",
    "            new_df,\n",
    "            train_data[train_data[\"Number Label\"] == i]\n",
    "        ])"
   ]
  },
  {
   "cell_type": "code",
   "execution_count": null,
   "id": "c3bbd355",
   "metadata": {},
   "outputs": [],
   "source": [
    "new_df = new_df.reset_index(drop=True).drop(columns=[\"Unnamed: 0\"])\n",
    "new_df, ohe = f_p.ohe_hot_encoding(new_df, categorical_list=[\"Protocol\", \"Destination Port\"])\n",
    "\n",
    "binary = new_df\n",
    "binary[\"Number Label\"] = binary[\"Number Label\"].apply(lambda x: 1 if x == 0 else 0)\n",
    "\n",
    "binary.to_csv(\"./onehot_bi.csv\")"
   ]
  },
  {
   "cell_type": "code",
   "execution_count": null,
   "id": "da7ae633",
   "metadata": {},
   "outputs": [],
   "source": []
  }
 ],
 "metadata": {
  "kernelspec": {
   "display_name": ".venv",
   "language": "python",
   "name": "python3"
  },
  "language_info": {
   "codemirror_mode": {
    "name": "ipython",
    "version": 3
   },
   "file_extension": ".py",
   "mimetype": "text/x-python",
   "name": "python",
   "nbconvert_exporter": "python",
   "pygments_lexer": "ipython3",
   "version": "3.9.6"
  }
 },
 "nbformat": 4,
 "nbformat_minor": 5
}
