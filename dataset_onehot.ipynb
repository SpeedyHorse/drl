{
 "cells": [
  {
   "cell_type": "code",
   "execution_count": 1,
   "id": "6882b291",
   "metadata": {},
   "outputs": [],
   "source": [
    "import pandas as pd\n",
    "from glob import glob\n",
    "import flow_package as f_p\n",
    "from imblearn.over_sampling import SMOTENC\n",
    "from sklearn.model_selection import train_test_split"
   ]
  },
  {
   "cell_type": "code",
   "execution_count": 2,
   "id": "d407b857",
   "metadata": {},
   "outputs": [
    {
     "name": "stdout",
     "output_type": "stream",
     "text": [
      "./raw_after_filtered/cicids2017/data\\Benign-Monday-WorkingHours.pcap_ISCX.csv_000.csv\n",
      "./raw_after_filtered/cicids2017/data\\Benign-Monday-WorkingHours.pcap_ISCX.csv_001.csv\n",
      "./raw_after_filtered/cicids2017/data\\Benign-Monday-WorkingHours.pcap_ISCX.csv_002.csv\n",
      "./raw_after_filtered/cicids2017/data\\Benign-Monday-WorkingHours.pcap_ISCX.csv_003.csv\n",
      "./raw_after_filtered/cicids2017/data\\Benign-Monday-WorkingHours.pcap_ISCX.csv_004.csv\n",
      "./raw_after_filtered/cicids2017/data\\Benign-Monday-WorkingHours.pcap_ISCX.csv_005.csv\n",
      "./raw_after_filtered/cicids2017/data\\Benign-Monday-WorkingHours.pcap_ISCX.csv_006.csv\n",
      "./raw_after_filtered/cicids2017/data\\Benign-Monday-WorkingHours.pcap_ISCX.csv_007.csv\n",
      "./raw_after_filtered/cicids2017/data\\Benign-Monday-WorkingHours.pcap_ISCX.csv_008.csv\n",
      "./raw_after_filtered/cicids2017/data\\Benign-Monday-WorkingHours.pcap_ISCX.csv_009.csv\n",
      "./raw_after_filtered/cicids2017/data\\Benign-Monday-WorkingHours.pcap_ISCX.csv_010.csv\n",
      "./raw_after_filtered/cicids2017/data\\Botnet-Friday-WorkingHours-Morning.pcap_ISCX.csv_000.csv\n",
      "./raw_after_filtered/cicids2017/data\\Botnet-Friday-WorkingHours-Morning.pcap_ISCX.csv_001.csv\n",
      "./raw_after_filtered/cicids2017/data\\Botnet-Friday-WorkingHours-Morning.pcap_ISCX.csv_002.csv\n",
      "./raw_after_filtered/cicids2017/data\\Botnet-Friday-WorkingHours-Morning.pcap_ISCX.csv_003.csv\n",
      "./raw_after_filtered/cicids2017/data\\Bruteforce-Tuesday-WorkingHours.pcap_ISCX.csv_000.csv\n",
      "./raw_after_filtered/cicids2017/data\\Bruteforce-Tuesday-WorkingHours.pcap_ISCX.csv_001.csv\n",
      "./raw_after_filtered/cicids2017/data\\Bruteforce-Tuesday-WorkingHours.pcap_ISCX.csv_002.csv\n",
      "./raw_after_filtered/cicids2017/data\\Bruteforce-Tuesday-WorkingHours.pcap_ISCX.csv_003.csv\n",
      "./raw_after_filtered/cicids2017/data\\Bruteforce-Tuesday-WorkingHours.pcap_ISCX.csv_004.csv\n",
      "./raw_after_filtered/cicids2017/data\\Bruteforce-Tuesday-WorkingHours.pcap_ISCX.csv_005.csv\n",
      "./raw_after_filtered/cicids2017/data\\Bruteforce-Tuesday-WorkingHours.pcap_ISCX.csv_006.csv\n",
      "./raw_after_filtered/cicids2017/data\\Bruteforce-Tuesday-WorkingHours.pcap_ISCX.csv_007.csv\n",
      "./raw_after_filtered/cicids2017/data\\Bruteforce-Tuesday-WorkingHours.pcap_ISCX.csv_008.csv\n",
      "./raw_after_filtered/cicids2017/data\\DDoS-Friday-WorkingHours-Afternoon.pcap_ISCX.csv_000.csv\n",
      "./raw_after_filtered/cicids2017/data\\DDoS-Friday-WorkingHours-Afternoon.pcap_ISCX.csv_001.csv\n",
      "./raw_after_filtered/cicids2017/data\\DDoS-Friday-WorkingHours-Afternoon.pcap_ISCX.csv_002.csv\n",
      "./raw_after_filtered/cicids2017/data\\DDoS-Friday-WorkingHours-Afternoon.pcap_ISCX.csv_003.csv\n",
      "./raw_after_filtered/cicids2017/data\\DDoS-Friday-WorkingHours-Afternoon.pcap_ISCX.csv_004.csv\n",
      "./raw_after_filtered/cicids2017/data\\DoS-Wednesday-WorkingHours.pcap_ISCX.csv_000.csv\n",
      "./raw_after_filtered/cicids2017/data\\DoS-Wednesday-WorkingHours.pcap_ISCX.csv_001.csv\n",
      "./raw_after_filtered/cicids2017/data\\DoS-Wednesday-WorkingHours.pcap_ISCX.csv_002.csv\n",
      "./raw_after_filtered/cicids2017/data\\DoS-Wednesday-WorkingHours.pcap_ISCX.csv_003.csv\n",
      "./raw_after_filtered/cicids2017/data\\DoS-Wednesday-WorkingHours.pcap_ISCX.csv_004.csv\n",
      "./raw_after_filtered/cicids2017/data\\DoS-Wednesday-WorkingHours.pcap_ISCX.csv_005.csv\n",
      "./raw_after_filtered/cicids2017/data\\DoS-Wednesday-WorkingHours.pcap_ISCX.csv_006.csv\n",
      "./raw_after_filtered/cicids2017/data\\DoS-Wednesday-WorkingHours.pcap_ISCX.csv_007.csv\n",
      "./raw_after_filtered/cicids2017/data\\DoS-Wednesday-WorkingHours.pcap_ISCX.csv_008.csv\n",
      "./raw_after_filtered/cicids2017/data\\DoS-Wednesday-WorkingHours.pcap_ISCX.csv_009.csv\n",
      "./raw_after_filtered/cicids2017/data\\DoS-Wednesday-WorkingHours.pcap_ISCX.csv_010.csv\n",
      "./raw_after_filtered/cicids2017/data\\DoS-Wednesday-WorkingHours.pcap_ISCX.csv_011.csv\n",
      "./raw_after_filtered/cicids2017/data\\DoS-Wednesday-WorkingHours.pcap_ISCX.csv_012.csv\n",
      "./raw_after_filtered/cicids2017/data\\DoS-Wednesday-WorkingHours.pcap_ISCX.csv_013.csv\n",
      "./raw_after_filtered/cicids2017/data\\Infiltration-Thursday-WorkingHours-Afternoon.pcap_ISCX.csv_000.csv\n",
      "./raw_after_filtered/cicids2017/data\\Infiltration-Thursday-WorkingHours-Afternoon.pcap_ISCX.csv_001.csv\n",
      "./raw_after_filtered/cicids2017/data\\Infiltration-Thursday-WorkingHours-Afternoon.pcap_ISCX.csv_002.csv\n",
      "./raw_after_filtered/cicids2017/data\\Infiltration-Thursday-WorkingHours-Afternoon.pcap_ISCX.csv_003.csv\n",
      "./raw_after_filtered/cicids2017/data\\Infiltration-Thursday-WorkingHours-Afternoon.pcap_ISCX.csv_004.csv\n",
      "./raw_after_filtered/cicids2017/data\\Infiltration-Thursday-WorkingHours-Afternoon.pcap_ISCX.csv_005.csv\n",
      "./raw_after_filtered/cicids2017/data\\Portscan-Friday-WorkingHours-Afternoon.pcap_ISCX.csv_000.csv\n",
      "./raw_after_filtered/cicids2017/data\\Portscan-Friday-WorkingHours-Afternoon.pcap_ISCX.csv_001.csv\n",
      "./raw_after_filtered/cicids2017/data\\Portscan-Friday-WorkingHours-Afternoon.pcap_ISCX.csv_002.csv\n",
      "./raw_after_filtered/cicids2017/data\\Portscan-Friday-WorkingHours-Afternoon.pcap_ISCX.csv_003.csv\n",
      "./raw_after_filtered/cicids2017/data\\Portscan-Friday-WorkingHours-Afternoon.pcap_ISCX.csv_004.csv\n",
      "./raw_after_filtered/cicids2017/data\\Portscan-Friday-WorkingHours-Afternoon.pcap_ISCX.csv_005.csv\n",
      "./raw_after_filtered/cicids2017/data\\WebAttacks-Thursday-WorkingHours-Morning.pcap_ISCX.csv_000.csv\n",
      "./raw_after_filtered/cicids2017/data\\WebAttacks-Thursday-WorkingHours-Morning.pcap_ISCX.csv_001.csv\n",
      "./raw_after_filtered/cicids2017/data\\WebAttacks-Thursday-WorkingHours-Morning.pcap_ISCX.csv_002.csv\n",
      "./raw_after_filtered/cicids2017/data\\WebAttacks-Thursday-WorkingHours-Morning.pcap_ISCX.csv_003.csv\n",
      "(2830743, 68)\n"
     ]
    }
   ],
   "source": [
    "files = glob(\"./raw_after_filtered/cicids2017/data/*.csv\")\n",
    "df = pd.DataFrame()\n",
    "\n",
    "for file in files:\n",
    "    print(file)\n",
    "    df_tmp = pd.read_csv(file)\n",
    "    df = pd.concat([df, df_tmp])\n",
    "else:\n",
    "    print(df.shape)\n"
   ]
  },
  {
   "cell_type": "code",
   "execution_count": 3,
   "id": "6b522d89",
   "metadata": {},
   "outputs": [
    {
     "ename": "MemoryError",
     "evalue": "Unable to allocate 1.11 TiB for an array with shape (2827876, 53794) and data type float64",
     "output_type": "error",
     "traceback": [
      "\u001b[1;31m---------------------------------------------------------------------------\u001b[0m",
      "\u001b[1;31mMemoryError\u001b[0m                               Traceback (most recent call last)",
      "Cell \u001b[1;32mIn[3], line 4\u001b[0m\n\u001b[0;32m      1\u001b[0m df \u001b[38;5;241m=\u001b[39m df\u001b[38;5;241m.\u001b[39mdropna(how\u001b[38;5;241m=\u001b[39m\u001b[38;5;124m\"\u001b[39m\u001b[38;5;124many\u001b[39m\u001b[38;5;124m\"\u001b[39m)\u001b[38;5;241m.\u001b[39mdropna(axis\u001b[38;5;241m=\u001b[39m\u001b[38;5;241m1\u001b[39m, how\u001b[38;5;241m=\u001b[39m\u001b[38;5;124m\"\u001b[39m\u001b[38;5;124mall\u001b[39m\u001b[38;5;124m\"\u001b[39m)\n\u001b[0;32m      3\u001b[0m df \u001b[38;5;241m=\u001b[39m df\u001b[38;5;241m.\u001b[39mreset_index(drop\u001b[38;5;241m=\u001b[39m\u001b[38;5;28;01mTrue\u001b[39;00m)\u001b[38;5;241m.\u001b[39mdrop(columns\u001b[38;5;241m=\u001b[39m[\u001b[38;5;124m\"\u001b[39m\u001b[38;5;124mUnnamed: 0\u001b[39m\u001b[38;5;124m\"\u001b[39m])\n\u001b[1;32m----> 4\u001b[0m df, ohe \u001b[38;5;241m=\u001b[39m \u001b[43mf_p\u001b[49m\u001b[38;5;241;43m.\u001b[39;49m\u001b[43mohe_hot_encoding\u001b[49m\u001b[43m(\u001b[49m\u001b[43mdf\u001b[49m\u001b[43m,\u001b[49m\u001b[43m \u001b[49m\u001b[43mcategorical_list\u001b[49m\u001b[38;5;241;43m=\u001b[39;49m\u001b[43m[\u001b[49m\u001b[38;5;124;43m\"\u001b[39;49m\u001b[38;5;124;43mProtocol\u001b[39;49m\u001b[38;5;124;43m\"\u001b[39;49m\u001b[43m,\u001b[49m\u001b[43m \u001b[49m\u001b[38;5;124;43m\"\u001b[39;49m\u001b[38;5;124;43mDestination Port\u001b[39;49m\u001b[38;5;124;43m\"\u001b[39;49m\u001b[43m]\u001b[49m\u001b[43m)\u001b[49m\n\u001b[0;32m      6\u001b[0m \u001b[38;5;28mprint\u001b[39m(df[\u001b[38;5;124m\"\u001b[39m\u001b[38;5;124mNumber Label\u001b[39m\u001b[38;5;124m\"\u001b[39m]\u001b[38;5;241m.\u001b[39munique())\n\u001b[0;32m      7\u001b[0m \u001b[38;5;28mprint\u001b[39m(df[\u001b[38;5;124m\"\u001b[39m\u001b[38;5;124mNumber Label\u001b[39m\u001b[38;5;124m\"\u001b[39m]\u001b[38;5;241m.\u001b[39mvalue_counts())\n",
      "File \u001b[1;32md:\\github\\drl\\.venv\\lib\\site-packages\\flow_package\\preprocessing.py:141\u001b[0m, in \u001b[0;36mohe_hot_encoding\u001b[1;34m(df, categorical_list)\u001b[0m\n\u001b[0;32m    139\u001b[0m \u001b[38;5;28;01mdef\u001b[39;00m\u001b[38;5;250m \u001b[39m\u001b[38;5;21mohe_hot_encoding\u001b[39m(df: pd\u001b[38;5;241m.\u001b[39mDataFrame, categorical_list: \u001b[38;5;28mlist\u001b[39m[\u001b[38;5;28mstr\u001b[39m] \u001b[38;5;241m=\u001b[39m \u001b[38;5;28;01mNone\u001b[39;00m) \u001b[38;5;241m-\u001b[39m\u001b[38;5;241m>\u001b[39m pd\u001b[38;5;241m.\u001b[39mDataFrame:\n\u001b[0;32m    140\u001b[0m     ohe \u001b[38;5;241m=\u001b[39m OneHotEncoder(sparse_output\u001b[38;5;241m=\u001b[39m\u001b[38;5;28;01mFalse\u001b[39;00m)\n\u001b[1;32m--> 141\u001b[0m     df_ohe \u001b[38;5;241m=\u001b[39m \u001b[43mohe\u001b[49m\u001b[38;5;241;43m.\u001b[39;49m\u001b[43mfit_transform\u001b[49m\u001b[43m(\u001b[49m\u001b[43mdf\u001b[49m\u001b[43m[\u001b[49m\u001b[43mcategorical_list\u001b[49m\u001b[43m]\u001b[49m\u001b[43m)\u001b[49m\n\u001b[0;32m    142\u001b[0m     df_ohe \u001b[38;5;241m=\u001b[39m pd\u001b[38;5;241m.\u001b[39mDataFrame(df_ohe, columns\u001b[38;5;241m=\u001b[39mohe\u001b[38;5;241m.\u001b[39mget_feature_names_out(categorical_list))\n\u001b[0;32m    144\u001b[0m     \u001b[38;5;66;03m# インデックス重複対策\u001b[39;00m\n",
      "File \u001b[1;32md:\\github\\drl\\.venv\\lib\\site-packages\\sklearn\\utils\\_set_output.py:319\u001b[0m, in \u001b[0;36m_wrap_method_output.<locals>.wrapped\u001b[1;34m(self, X, *args, **kwargs)\u001b[0m\n\u001b[0;32m    317\u001b[0m \u001b[38;5;129m@wraps\u001b[39m(f)\n\u001b[0;32m    318\u001b[0m \u001b[38;5;28;01mdef\u001b[39;00m\u001b[38;5;250m \u001b[39m\u001b[38;5;21mwrapped\u001b[39m(\u001b[38;5;28mself\u001b[39m, X, \u001b[38;5;241m*\u001b[39margs, \u001b[38;5;241m*\u001b[39m\u001b[38;5;241m*\u001b[39mkwargs):\n\u001b[1;32m--> 319\u001b[0m     data_to_wrap \u001b[38;5;241m=\u001b[39m f(\u001b[38;5;28mself\u001b[39m, X, \u001b[38;5;241m*\u001b[39margs, \u001b[38;5;241m*\u001b[39m\u001b[38;5;241m*\u001b[39mkwargs)\n\u001b[0;32m    320\u001b[0m     \u001b[38;5;28;01mif\u001b[39;00m \u001b[38;5;28misinstance\u001b[39m(data_to_wrap, \u001b[38;5;28mtuple\u001b[39m):\n\u001b[0;32m    321\u001b[0m         \u001b[38;5;66;03m# only wrap the first output for cross decomposition\u001b[39;00m\n\u001b[0;32m    322\u001b[0m         return_tuple \u001b[38;5;241m=\u001b[39m (\n\u001b[0;32m    323\u001b[0m             _wrap_data_with_container(method, data_to_wrap[\u001b[38;5;241m0\u001b[39m], X, \u001b[38;5;28mself\u001b[39m),\n\u001b[0;32m    324\u001b[0m             \u001b[38;5;241m*\u001b[39mdata_to_wrap[\u001b[38;5;241m1\u001b[39m:],\n\u001b[0;32m    325\u001b[0m         )\n",
      "File \u001b[1;32md:\\github\\drl\\.venv\\lib\\site-packages\\sklearn\\base.py:918\u001b[0m, in \u001b[0;36mTransformerMixin.fit_transform\u001b[1;34m(self, X, y, **fit_params)\u001b[0m\n\u001b[0;32m    903\u001b[0m         warnings\u001b[38;5;241m.\u001b[39mwarn(\n\u001b[0;32m    904\u001b[0m             (\n\u001b[0;32m    905\u001b[0m                 \u001b[38;5;124mf\u001b[39m\u001b[38;5;124m\"\u001b[39m\u001b[38;5;124mThis object (\u001b[39m\u001b[38;5;132;01m{\u001b[39;00m\u001b[38;5;28mself\u001b[39m\u001b[38;5;241m.\u001b[39m\u001b[38;5;18m__class__\u001b[39m\u001b[38;5;241m.\u001b[39m\u001b[38;5;18m__name__\u001b[39m\u001b[38;5;132;01m}\u001b[39;00m\u001b[38;5;124m) has a `transform`\u001b[39m\u001b[38;5;124m\"\u001b[39m\n\u001b[1;32m   (...)\u001b[0m\n\u001b[0;32m    913\u001b[0m             \u001b[38;5;167;01mUserWarning\u001b[39;00m,\n\u001b[0;32m    914\u001b[0m         )\n\u001b[0;32m    916\u001b[0m \u001b[38;5;28;01mif\u001b[39;00m y \u001b[38;5;129;01mis\u001b[39;00m \u001b[38;5;28;01mNone\u001b[39;00m:\n\u001b[0;32m    917\u001b[0m     \u001b[38;5;66;03m# fit method of arity 1 (unsupervised transformation)\u001b[39;00m\n\u001b[1;32m--> 918\u001b[0m     \u001b[38;5;28;01mreturn\u001b[39;00m \u001b[38;5;28;43mself\u001b[39;49m\u001b[38;5;241;43m.\u001b[39;49m\u001b[43mfit\u001b[49m\u001b[43m(\u001b[49m\u001b[43mX\u001b[49m\u001b[43m,\u001b[49m\u001b[43m \u001b[49m\u001b[38;5;241;43m*\u001b[39;49m\u001b[38;5;241;43m*\u001b[39;49m\u001b[43mfit_params\u001b[49m\u001b[43m)\u001b[49m\u001b[38;5;241;43m.\u001b[39;49m\u001b[43mtransform\u001b[49m\u001b[43m(\u001b[49m\u001b[43mX\u001b[49m\u001b[43m)\u001b[49m\n\u001b[0;32m    919\u001b[0m \u001b[38;5;28;01melse\u001b[39;00m:\n\u001b[0;32m    920\u001b[0m     \u001b[38;5;66;03m# fit method of arity 2 (supervised transformation)\u001b[39;00m\n\u001b[0;32m    921\u001b[0m     \u001b[38;5;28;01mreturn\u001b[39;00m \u001b[38;5;28mself\u001b[39m\u001b[38;5;241m.\u001b[39mfit(X, y, \u001b[38;5;241m*\u001b[39m\u001b[38;5;241m*\u001b[39mfit_params)\u001b[38;5;241m.\u001b[39mtransform(X)\n",
      "File \u001b[1;32md:\\github\\drl\\.venv\\lib\\site-packages\\sklearn\\utils\\_set_output.py:319\u001b[0m, in \u001b[0;36m_wrap_method_output.<locals>.wrapped\u001b[1;34m(self, X, *args, **kwargs)\u001b[0m\n\u001b[0;32m    317\u001b[0m \u001b[38;5;129m@wraps\u001b[39m(f)\n\u001b[0;32m    318\u001b[0m \u001b[38;5;28;01mdef\u001b[39;00m\u001b[38;5;250m \u001b[39m\u001b[38;5;21mwrapped\u001b[39m(\u001b[38;5;28mself\u001b[39m, X, \u001b[38;5;241m*\u001b[39margs, \u001b[38;5;241m*\u001b[39m\u001b[38;5;241m*\u001b[39mkwargs):\n\u001b[1;32m--> 319\u001b[0m     data_to_wrap \u001b[38;5;241m=\u001b[39m f(\u001b[38;5;28mself\u001b[39m, X, \u001b[38;5;241m*\u001b[39margs, \u001b[38;5;241m*\u001b[39m\u001b[38;5;241m*\u001b[39mkwargs)\n\u001b[0;32m    320\u001b[0m     \u001b[38;5;28;01mif\u001b[39;00m \u001b[38;5;28misinstance\u001b[39m(data_to_wrap, \u001b[38;5;28mtuple\u001b[39m):\n\u001b[0;32m    321\u001b[0m         \u001b[38;5;66;03m# only wrap the first output for cross decomposition\u001b[39;00m\n\u001b[0;32m    322\u001b[0m         return_tuple \u001b[38;5;241m=\u001b[39m (\n\u001b[0;32m    323\u001b[0m             _wrap_data_with_container(method, data_to_wrap[\u001b[38;5;241m0\u001b[39m], X, \u001b[38;5;28mself\u001b[39m),\n\u001b[0;32m    324\u001b[0m             \u001b[38;5;241m*\u001b[39mdata_to_wrap[\u001b[38;5;241m1\u001b[39m:],\n\u001b[0;32m    325\u001b[0m         )\n",
      "File \u001b[1;32md:\\github\\drl\\.venv\\lib\\site-packages\\sklearn\\preprocessing\\_encoders.py:1083\u001b[0m, in \u001b[0;36mOneHotEncoder.transform\u001b[1;34m(self, X)\u001b[0m\n\u001b[0;32m   1077\u001b[0m out \u001b[38;5;241m=\u001b[39m sparse\u001b[38;5;241m.\u001b[39mcsr_matrix(\n\u001b[0;32m   1078\u001b[0m     (data, indices, indptr),\n\u001b[0;32m   1079\u001b[0m     shape\u001b[38;5;241m=\u001b[39m(n_samples, feature_indices[\u001b[38;5;241m-\u001b[39m\u001b[38;5;241m1\u001b[39m]),\n\u001b[0;32m   1080\u001b[0m     dtype\u001b[38;5;241m=\u001b[39m\u001b[38;5;28mself\u001b[39m\u001b[38;5;241m.\u001b[39mdtype,\n\u001b[0;32m   1081\u001b[0m )\n\u001b[0;32m   1082\u001b[0m \u001b[38;5;28;01mif\u001b[39;00m \u001b[38;5;129;01mnot\u001b[39;00m \u001b[38;5;28mself\u001b[39m\u001b[38;5;241m.\u001b[39msparse_output:\n\u001b[1;32m-> 1083\u001b[0m     \u001b[38;5;28;01mreturn\u001b[39;00m \u001b[43mout\u001b[49m\u001b[38;5;241;43m.\u001b[39;49m\u001b[43mtoarray\u001b[49m\u001b[43m(\u001b[49m\u001b[43m)\u001b[49m\n\u001b[0;32m   1084\u001b[0m \u001b[38;5;28;01melse\u001b[39;00m:\n\u001b[0;32m   1085\u001b[0m     \u001b[38;5;28;01mreturn\u001b[39;00m out\n",
      "File \u001b[1;32md:\\github\\drl\\.venv\\lib\\site-packages\\scipy\\sparse\\_compressed.py:1106\u001b[0m, in \u001b[0;36m_cs_matrix.toarray\u001b[1;34m(self, order, out)\u001b[0m\n\u001b[0;32m   1104\u001b[0m \u001b[38;5;28;01mif\u001b[39;00m out \u001b[38;5;129;01mis\u001b[39;00m \u001b[38;5;28;01mNone\u001b[39;00m \u001b[38;5;129;01mand\u001b[39;00m order \u001b[38;5;129;01mis\u001b[39;00m \u001b[38;5;28;01mNone\u001b[39;00m:\n\u001b[0;32m   1105\u001b[0m     order \u001b[38;5;241m=\u001b[39m \u001b[38;5;28mself\u001b[39m\u001b[38;5;241m.\u001b[39m_swap(\u001b[38;5;124m'\u001b[39m\u001b[38;5;124mcf\u001b[39m\u001b[38;5;124m'\u001b[39m)[\u001b[38;5;241m0\u001b[39m]\n\u001b[1;32m-> 1106\u001b[0m out \u001b[38;5;241m=\u001b[39m \u001b[38;5;28;43mself\u001b[39;49m\u001b[38;5;241;43m.\u001b[39;49m\u001b[43m_process_toarray_args\u001b[49m\u001b[43m(\u001b[49m\u001b[43morder\u001b[49m\u001b[43m,\u001b[49m\u001b[43m \u001b[49m\u001b[43mout\u001b[49m\u001b[43m)\u001b[49m\n\u001b[0;32m   1107\u001b[0m \u001b[38;5;28;01mif\u001b[39;00m \u001b[38;5;129;01mnot\u001b[39;00m (out\u001b[38;5;241m.\u001b[39mflags\u001b[38;5;241m.\u001b[39mc_contiguous \u001b[38;5;129;01mor\u001b[39;00m out\u001b[38;5;241m.\u001b[39mflags\u001b[38;5;241m.\u001b[39mf_contiguous):\n\u001b[0;32m   1108\u001b[0m     \u001b[38;5;28;01mraise\u001b[39;00m \u001b[38;5;167;01mValueError\u001b[39;00m(\u001b[38;5;124m'\u001b[39m\u001b[38;5;124mOutput array must be C or F contiguous\u001b[39m\u001b[38;5;124m'\u001b[39m)\n",
      "File \u001b[1;32md:\\github\\drl\\.venv\\lib\\site-packages\\scipy\\sparse\\_base.py:1327\u001b[0m, in \u001b[0;36m_spbase._process_toarray_args\u001b[1;34m(self, order, out)\u001b[0m\n\u001b[0;32m   1325\u001b[0m     \u001b[38;5;28;01mreturn\u001b[39;00m out\n\u001b[0;32m   1326\u001b[0m \u001b[38;5;28;01melse\u001b[39;00m:\n\u001b[1;32m-> 1327\u001b[0m     \u001b[38;5;28;01mreturn\u001b[39;00m \u001b[43mnp\u001b[49m\u001b[38;5;241;43m.\u001b[39;49m\u001b[43mzeros\u001b[49m\u001b[43m(\u001b[49m\u001b[38;5;28;43mself\u001b[39;49m\u001b[38;5;241;43m.\u001b[39;49m\u001b[43mshape\u001b[49m\u001b[43m,\u001b[49m\u001b[43m \u001b[49m\u001b[43mdtype\u001b[49m\u001b[38;5;241;43m=\u001b[39;49m\u001b[38;5;28;43mself\u001b[39;49m\u001b[38;5;241;43m.\u001b[39;49m\u001b[43mdtype\u001b[49m\u001b[43m,\u001b[49m\u001b[43m \u001b[49m\u001b[43morder\u001b[49m\u001b[38;5;241;43m=\u001b[39;49m\u001b[43morder\u001b[49m\u001b[43m)\u001b[49m\n",
      "\u001b[1;31mMemoryError\u001b[0m: Unable to allocate 1.11 TiB for an array with shape (2827876, 53794) and data type float64"
     ]
    }
   ],
   "source": [
    "df = df.dropna(how=\"any\").dropna(axis=1, how=\"all\")\n",
    "\n",
    "df = df.reset_index(drop=True).drop(columns=[\"Unnamed: 0\"])\n",
    "df, ohe = f_p.ohe_hot_encoding(df, categorical_list=[\"Protocol\", \"Destination Port\"])\n",
    "\n",
    "print(df[\"Number Label\"].unique())\n",
    "print(df[\"Number Label\"].value_counts())\n",
    "length = len(df[\"Number Label\"].unique())\n",
    "\n",
    "train_data, test_data = train_test_split(df, test_size=0.2, stratify=df[\"Number Label\"], random_state=42)\n",
    "\n",
    "print(train_data[\"Number Label\"].value_counts())\n",
    "print(test_data[\"Number Label\"].value_counts())\n",
    "\n",
    "test_data.to_csv(\"./test.csv\")"
   ]
  },
  {
   "cell_type": "markdown",
   "id": "06e4a054",
   "metadata": {},
   "source": [
    "## Multi"
   ]
  },
  {
   "cell_type": "code",
   "execution_count": null,
   "id": "85e23834",
   "metadata": {},
   "outputs": [],
   "source": [
    "value_counts = df[\"Number Label\"].value_counts().sort_index()\n",
    "\n",
    "value_no2_max = 1000\n",
    "\n",
    "new_df = pd.DataFrame()\n",
    "for i in range(length):\n",
    "    if value_counts[i] > value_no2_max:\n",
    "        new_df = pd.concat([\n",
    "            new_df,\n",
    "            train_data[train_data[\"Number Label\"] == i].sample(value_no2_max, random_state=1),\n",
    "        ])\n",
    "    else:\n",
    "        new_df = pd.concat([\n",
    "            new_df,\n",
    "            train_data[train_data[\"Number Label\"] == i]\n",
    "        ])"
   ]
  },
  {
   "cell_type": "code",
   "execution_count": null,
   "id": "281c36ad",
   "metadata": {},
   "outputs": [
    {
     "name": "stderr",
     "output_type": "stream",
     "text": [
      "d:\\github\\drl\\.venv\\lib\\site-packages\\sklearn\\base.py:484: FutureWarning: `BaseEstimator._check_n_features` is deprecated in 1.6 and will be removed in 1.7. Use `sklearn.utils.validation._check_n_features` instead.\n",
      "  warnings.warn(\n",
      "d:\\github\\drl\\.venv\\lib\\site-packages\\sklearn\\base.py:493: FutureWarning: `BaseEstimator._check_feature_names` is deprecated in 1.6 and will be removed in 1.7. Use `sklearn.utils.validation._check_feature_names` instead.\n",
      "  warnings.warn(\n"
     ]
    }
   ],
   "source": [
    "x_df = new_df.drop(columns=[\"Number Label\"])\n",
    "y_df = new_df[\"Number Label\"]\n",
    "\n",
    "smote_nc = SMOTENC(\n",
    "    categorical_features=[x_df.columns.get_loc(label) for label in ohe],\n",
    "    random_state=42,\n",
    "    k_neighbors=3,\n",
    "    sampling_strategy=\"minority\",\n",
    ")\n",
    "\n",
    "x_resampled, y_resampled = smote_nc.fit_resample(x_df, y_df)\n",
    "\n",
    "x_re_df = pd.DataFrame(x_resampled)\n",
    "y_re_df = pd.DataFrame(y_resampled, columns=[\"Number Label\"])\n",
    "\n",
    "new_re_df = pd.concat([x_re_df, y_re_df], axis=1)\n",
    "\n",
    "new_re_df.to_csv(\"./onehot.csv\")"
   ]
  },
  {
   "cell_type": "markdown",
   "id": "6413ed5e",
   "metadata": {},
   "source": [
    "## Binary"
   ]
  },
  {
   "cell_type": "code",
   "execution_count": null,
   "id": "2be1cd08",
   "metadata": {},
   "outputs": [],
   "source": [
    "train_data[\"Number Label\"] = train_data[\"Number Label\"].apply(lambda n_label: 0 if n_label == 0 else 1)\n",
    "value_counts = train_data[\"Number Label\"].value_counts().sort_index()\n",
    "\n",
    "value_no2_max = 10000\n",
    "\n",
    "new_df = pd.DataFrame()\n",
    "for i in [0, 1]:\n",
    "    if value_counts[i] > value_no2_max:\n",
    "        new_df = pd.concat([\n",
    "            new_df,\n",
    "            train_data[train_data[\"Number Label\"] == i].sample(value_no2_max, random_state=1),\n",
    "        ])\n",
    "    else:\n",
    "        new_df = pd.concat([\n",
    "            new_df,\n",
    "            train_data[train_data[\"Number Label\"] == i]\n",
    "        ])"
   ]
  },
  {
   "cell_type": "code",
   "execution_count": null,
   "id": "c3bbd355",
   "metadata": {},
   "outputs": [],
   "source": [
    "new_df = new_df.reset_index(drop=True).drop(columns=[\"Unnamed: 0\"])\n",
    "new_df, ohe = f_p.ohe_hot_encoding(new_df, categorical_list=[\"Protocol\", \"Destination Port\"])\n",
    "\n",
    "binary = new_df\n",
    "binary[\"Number Label\"] = binary[\"Number Label\"].apply(lambda x: 1 if x == 0 else 0)\n",
    "\n",
    "binary.to_csv(\"./onehot_bi.csv\")"
   ]
  },
  {
   "cell_type": "code",
   "execution_count": null,
   "id": "da7ae633",
   "metadata": {},
   "outputs": [],
   "source": []
  }
 ],
 "metadata": {
  "kernelspec": {
   "display_name": ".venv",
   "language": "python",
   "name": "python3"
  },
  "language_info": {
   "codemirror_mode": {
    "name": "ipython",
    "version": 3
   },
   "file_extension": ".py",
   "mimetype": "text/x-python",
   "name": "python",
   "nbconvert_exporter": "python",
   "pygments_lexer": "ipython3",
   "version": "3.9.20"
  }
 },
 "nbformat": 4,
 "nbformat_minor": 5
}
