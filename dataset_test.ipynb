{
 "cells": [
  {
   "cell_type": "code",
   "execution_count": null,
   "metadata": {},
   "outputs": [],
   "source": [
    "import glob\n",
    "import os\n",
    "import pandas as pd\n",
    "from imblearn.over_sampling import SMOTENC\n",
    "from sklearn.model_selection import train_test_split\n",
    "from sklearn.preprocessing import OneHotEncoder\n",
    "import numpy as np"
   ]
  },
  {
   "cell_type": "code",
   "execution_count": null,
   "metadata": {},
   "outputs": [],
   "source": [
    "paths = glob.glob(\"./raw_after_filtered/cicids2017/data/*.csv\")\n",
    "df = pd.DataFrame()\n",
    "\n",
    "for path in paths:\n",
    "    temp_df = pd.read_csv(path)\n",
    "    df = pd.concat([df, temp_df])\n",
    "\n",
    "df = df.dropna(how=\"any\").dropna(axis=1, how=\"all\")\n",
    "\n",
    "ohe = OneHotEncoder(\n",
    "    sparse=False,\n",
    "    dtype=np.int8\n",
    ")\n",
    "\n",
    "df_ohe = ohe.fit_transform(df[\"Destination Port\"])\n",
    "df_ohe = pd.DataFrame(df_ohe, columns=ohe.get_feature_names_out([\"Destination Port\"]))\n",
    "\n",
    "df_after = pd.concat([df, df_ohe], axis=1)\n",
    "df_after = df_after.drop(columns=[\"Destination Port\"])"
   ]
  },
  {
   "cell_type": "code",
   "execution_count": null,
   "metadata": {},
   "outputs": [],
   "source": [
    "_, buf = train_test_split(\n",
    "    df_after, test_size=0.02, random_state=42, stratify=df_after[\"Label\"]\n",
    ")\n",
    "\n",
    "train, test = train_test_split(\n",
    "    buf, test_size=0.2, random_state=42, stratify=buf[\"Label\"]\n",
    ")\n",
    "train = train.reset_index(drop=True)\n",
    "test = test.reset_index(drop=True)\n",
    "\n",
    "train_x = train.drop(columns=[\"Label\"])\n",
    "train_y = train[\"Label\"]\n",
    "\n",
    "smote_nc = SMOTENC(\n",
    "    "
   ]
  }
 ],
 "metadata": {
  "kernelspec": {
   "display_name": ".venv",
   "language": "python",
   "name": "python3"
  },
  "language_info": {
   "codemirror_mode": {
    "name": "ipython",
    "version": 3
   },
   "file_extension": ".py",
   "mimetype": "text/x-python",
   "name": "python",
   "nbconvert_exporter": "python",
   "pygments_lexer": "ipython3",
   "version": "3.9.20"
  }
 },
 "nbformat": 4,
 "nbformat_minor": 2
}
