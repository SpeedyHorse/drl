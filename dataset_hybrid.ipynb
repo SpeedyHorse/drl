{
 "cells": [
  {
   "cell_type": "code",
   "execution_count": 11,
   "id": "a8fb68b5",
   "metadata": {},
   "outputs": [],
   "source": [
    "import os\n",
    "from glob import glob\n",
    "\n",
    "import pandas as pd\n",
    "import flow_package as f_p\n",
    "import imblearn.over_sampling as im_os\n",
    "import imblearn.under_sampling as im_us"
   ]
  },
  {
   "cell_type": "code",
   "execution_count": 12,
   "id": "75dca22b",
   "metadata": {},
   "outputs": [],
   "source": [
    "def read_csv(files):\n",
    "    df = pd.DataFrame()\n",
    "    for file in files:\n",
    "        if os.path.exists(file):\n",
    "            df = pd.concat([df, pd.read_csv(file)], ignore_index=True)\n",
    "        else:\n",
    "            print(f\"File not found: {file}\")\n",
    "    return df"
   ]
  },
  {
   "cell_type": "code",
   "execution_count": 14,
   "id": "782abcdc",
   "metadata": {},
   "outputs": [
    {
     "name": "stdout",
     "output_type": "stream",
     "text": [
      "Number Label\n",
      "0     2271320\n",
      "11     230124\n",
      "8      158804\n",
      "1      128025\n",
      "12      10293\n",
      "5        7935\n",
      "6        5897\n",
      "9        5796\n",
      "10       5499\n",
      "7        1956\n",
      "2        1507\n",
      "3         652\n",
      "14         36\n",
      "4          21\n",
      "13         11\n",
      "Name: count, dtype: int64\n",
      "over\n",
      "Number Label\n",
      "9     5796\n",
      "10    5499\n",
      "7     1956\n",
      "2     1507\n",
      "3      652\n",
      "14      36\n",
      "4       21\n",
      "13      11\n",
      "Name: count, dtype: int64\n",
      "under\n",
      "Number Label\n",
      "0     2271320\n",
      "11     230124\n",
      "8      158804\n",
      "1      128025\n",
      "12      10293\n",
      "5        7935\n",
      "6        5897\n",
      "9        5796\n",
      "Name: count, dtype: int64\n"
     ]
    }
   ],
   "source": [
    "SIZE = 5796\n",
    "PATH = os.path.abspath(\"./raw_after_filtered/cicids2017/data\")\n",
    "files = glob(os.path.join(PATH, \"*.csv\"))\n",
    "\n",
    "df = read_csv(files)\n",
    "df = df.dropna(how=\"any\").dropna(how=\"all\", axis=1)\n",
    "\n",
    "counts = df['Number Label'].value_counts()\n",
    "print(counts)\n",
    "over_labels = [label for label, count in counts.items() if count <= SIZE]\n",
    "umder_labels = [label for label, count in counts.items() if count >= SIZE]\n",
    "\n",
    "df_over = df[df['Number Label'].isin(over_labels)]\n",
    "df_under = df[df['Number Label'].isin(umder_labels)]\n",
    "\n",
    "print(\"over\")\n",
    "print(df_over['Number Label'].value_counts())\n",
    "print(\"under\")\n",
    "print(df_under['Number Label'].value_counts())"
   ]
  },
  {
   "cell_type": "code",
   "execution_count": null,
   "id": "75c3eca8",
   "metadata": {
    "vscode": {
     "languageId": "javascript"
    }
   },
   "outputs": [
    {
     "name": "stderr",
     "output_type": "stream",
     "text": [
      "/Users/toshi_pro/Documents/github-sub/drl/.venv/lib/python3.9/site-packages/sklearn/base.py:474: FutureWarning: `BaseEstimator._validate_data` is deprecated in 1.6 and will be removed in 1.7. Use `sklearn.utils.validation.validate_data` instead. This function becomes public and is part of the scikit-learn developer API.\n",
      "  warnings.warn(\n"
     ]
    }
   ],
   "source": [
    "cnn = im_us.CondensedNearestNeighbour(\n",
    "    random_state=42,\n",
    ")\n",
    "\n",
    "df_under_x, df_under_y = cnn.fit_resample(\n",
    "    df_under.drop(columns=['Number Label']),\n",
    "    df_under['Number Label'],\n",
    ")\n",
    "df_under = pd.concat([df_under_x, df_under_y], axis=1)\n",
    "print(df_under['Number Label'].value_counts())\n",
    "\n",
    "ada = im_os.ADASYN(\n",
    "    random_state=42\n",
    ")\n",
    "\n",
    "df_over_x, df_over_y = ada.fit_resample(\n",
    "    df_over.drop(columns=['Number Label']),\n",
    "    df_over['Number Label'],\n",
    ")\n",
    "df_over = pd.concat([df_over_x, df_over_y], axis=1)\n",
    "print(df_over['Number Label'].value_counts())"
   ]
  },
  {
   "cell_type": "code",
   "execution_count": null,
   "id": "801d868d",
   "metadata": {},
   "outputs": [],
   "source": []
  }
 ],
 "metadata": {
  "kernelspec": {
   "display_name": ".venv",
   "language": "python",
   "name": "python3"
  },
  "language_info": {
   "codemirror_mode": {
    "name": "ipython",
    "version": 3
   },
   "file_extension": ".py",
   "mimetype": "text/x-python",
   "name": "python",
   "nbconvert_exporter": "python",
   "pygments_lexer": "ipython3",
   "version": "3.9.6"
  }
 },
 "nbformat": 4,
 "nbformat_minor": 5
}
