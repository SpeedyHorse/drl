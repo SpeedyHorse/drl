{
 "cells": [
  {
   "cell_type": "code",
   "execution_count": 1,
   "metadata": {},
   "outputs": [],
   "source": [
    "import pandas as pd\n",
    "from sklearn.model_selection import train_test_split\n",
    "import os\n",
    "\n",
    "full_features = [\n",
    "    \"Flow ID\",\"Source IP\",\"Source Port\",\"Destination IP\",\"Destination Port\",\"Protocol\",\"Timestamp\",\"Flow Duration\",\"Total Fwd Packets\",\"Total Backward Packets\",\"Total Length of Fwd Packets\",\"Total Length of Bwd Packets\",\"Fwd Packet Length Max\",\"Fwd Packet Length Min\",\"Fwd Packet Length Mean\",\"Fwd Packet Length Std\",\"Bwd Packet Length Max\",\"Bwd Packet Length Min\",\"Bwd Packet Length Mean\",\"Bwd Packet Length Std\",\"Flow Bytes/s\",\"Flow Packets/s\",\"Flow IAT Mean\",\"Flow IAT Std\",\"Flow IAT Max\",\"Flow IAT Min\",\"Fwd IAT Total\",\"Fwd IAT Mean\",\"Fwd IAT Std\",\"Fwd IAT Max\",\"Fwd IAT Min\",\"Bwd IAT Total\",\"Bwd IAT Mean\",\"Bwd IAT Std\",\"Bwd IAT Max\",\"Bwd IAT Min\",\"Fwd PSH Flags\",\"Bwd PSH Flags\",\"Fwd URG Flags\",\"Bwd URG Flags\",\"Fwd Header Length\",\"Bwd Header Length\",\"Fwd Packets/s\",\"Bwd Packets/s\",\"Min Packet Length\",\"Max Packet Length\",\"Packet Length Mean\",\"Packet Length Std\",\"Packet Length Variance\",\"FIN Flag Count\",\"SYN Flag Count\",\"RST Flag Count\",\"PSH Flag Count\",\"ACK Flag Count\",\"URG Flag Count\",\"CWE Flag Count\",\"ECE Flag Count\",\"Down/Up Ratio\",\"Average Packet Size\",\"Avg Fwd Segment Size\",\"Avg Bwd Segment Size\",\"Fwd Avg Bytes/Bulk\",\"Fwd Avg Packets/Bulk\",\"Fwd Avg Bulk Rate\",\"Bwd Avg Bytes/Bulk\",\"Bwd Avg Packets/Bulk\",\"Bwd Avg Bulk Rate\",\"Subflow Fwd Packets\",\"Subflow Fwd Bytes\",\"Subflow Bwd Packets\",\"Subflow Bwd Bytes\",\"Init_Win_bytes_forward\",\"Init_Win_bytes_backward\",\"act_data_pkt_fwd\",\"min_seg_size_forward\",\"Active Mean\",\"Active Std\",\"Active Max\",\"Active Min\",\"Idle Mean\",\"Idle Std\",\"Idle Max\",\"Idle Min\",\"Label\"\n",
    "]\n",
    "\n",
    "dataset_cicids2017_paths = [\n",
    "    \"raw/cicids2017/Benign-Monday-WorkingHours.pcap_ISCX.csv\",\n",
    "    \"raw/cicids2017/Botnet-Friday-WorkingHours-Morning.pcap_ISCX.csv\",\n",
    "    \"raw/cicids2017/Bruteforce-Tuesday-WorkingHours.pcap_ISCX.csv\",\n",
    "    \"raw/cicids2017/DDoS-Friday-WorkingHours-Afternoon.pcap_ISCX.csv\",\n",
    "    \"raw/cicids2017/DoS-Wednesday-WorkingHours.pcap_ISCX.csv\",\n",
    "    \"raw/cicids2017/Infiltration-Thursday-WorkingHours-Afternoon.pcap_ISCX.csv\",\n",
    "    \"raw/cicids2017/Portscan-Friday-WorkingHours-Afternoon.pcap_ISCX.csv\",\n",
    "    \"raw/cicids2017/WebAttacks-Thursday-WorkingHours-Morning.pcap_ISCX.csv\"\n",
    "]"
   ]
  },
  {
   "cell_type": "code",
   "execution_count": 2,
   "metadata": {},
   "outputs": [],
   "source": [
    "csecicids2018_features = [\n",
    "    \"Destination Port\",\"Protocol\",\"Timestamp\",\"Flow Duration\",\"Total Fwd Packets\",\"Total Backward Packets\",\"Total Length of Fwd Packets\",\"Total Length of Bwd Packets\",\"Fwd Packet Length Max\",\"Fwd Packet Length Min\",\"Fwd Packet Length Mean\",\"Fwd Packet Length Std\",\"Bwd Packet Length Max\",\"Bwd Packet Length Min\",\"Bwd Packet Length Mean\",\"Bwd Packet Length Std\",\"Flow Bytes/s\",\"Flow Packets/s\",\"Flow IAT Mean\",\"Flow IAT Std\",\"Flow IAT Max\",\"Flow IAT Min\",\"Fwd IAT Total\",\"Fwd IAT Mean\",\"Fwd IAT Std\",\"Fwd IAT Max\",\"Fwd IAT Min\",\"Bwd IAT Total\",\"Bwd IAT Mean\",\"Bwd IAT Std\",\"Bwd IAT Max\",\"Bwd IAT Min\",\"Fwd PSH Flags\",\"Bwd PSH Flags\",\"Fwd URG Flags\",\"Bwd URG Flags\",\"Fwd Header Length\",\"Bwd Header Length\",\"Fwd Packets/s\",\"Bwd Packets/s\",\"Min Packet Length\",\"Max Packet Length\",\"Packet Length Mean\",\"Packet Length Std\",\"Packet Length Variance\",\"FIN Flag Count\",\"SYN Flag Count\",\"RST Flag Count\",\"PSH Flag Count\",\"ACK Flag Count\",\"URG Flag Count\",\"CWE Flag Count\",\"ECE Flag Count\",\"Down/Up Ratio\",\"Average Packet Size\",\"Avg Fwd Segment Size\",\"Avg Bwd Segment Size\",\"Fwd Avg Bytes/Bulk\",\"Fwd Avg Packets/Bulk\",\"Fwd Avg Bulk Rate\",\"Bwd Avg Bytes/Bulk\",\"Bwd Avg Packets/Bulk\",\"Bwd Avg Bulk Rate\",\"Subflow Fwd Packets\",\"Subflow Fwd Bytes\",\"Subflow Bwd Packets\",\"Subflow Bwd Bytes\",\"Init_Win_bytes_forward\",\"Init_Win_bytes_backward\",\"act_data_pkt_fwd\",\"min_seg_size_forward\",\"Active Mean\",\"Active Std\",\"Active Max\",\"Active Min\",\"Idle Mean\",\"Idle Std\",\"Idle Max\",\"Idle Min\",\"Label\"\n",
    "]\n",
    "\n",
    "dataset_csecicids2018_paths = [\n",
    "    \"raw/csecicids2018/02-14-2018.csv\",\n",
    "    \"raw/csecicids2018/02-15-2018.csv\",\n",
    "    \"raw/csecicids2018/02-16-2018.csv\",\n",
    "    \"raw/csecicids2018/02-20-2018.csv\",\n",
    "    \"raw/csecicids2018/02-21-2018.csv\",\n",
    "    \"raw/csecicids2018/02-22-2018.csv\",\n",
    "    \"raw/csecicids2018/02-23-2018.csv\",\n",
    "    \"raw/csecicids2018/02-28-2018.csv\",\n",
    "    \"raw/csecicids2018/03-01-2018.csv\",\n",
    "    \"raw/csecicids2018/03-02-2018.csv\",\n",
    "]"
   ]
  },
  {
   "cell_type": "code",
   "execution_count": 3,
   "metadata": {},
   "outputs": [],
   "source": [
    "def create_dataset(paths, features):\n",
    "    # empty dataframe\n",
    "    train = pd.DataFrame()\n",
    "    test = pd.DataFrame()\n",
    "\n",
    "    for path in paths:\n",
    "        # print absolute path\n",
    "        abs_path = os.path.abspath(path)\n",
    "        # print(os.path.abspath(path))\n",
    "        # read csv\n",
    "        df = pd.read_csv(abs_path)\n",
    "        if len(df.columns) == 84:\n",
    "            df = df.set_axis(full_features, axis=1)\n",
    "            df = df.drop(columns=[\"Flow ID\", \"Source IP\", \"Source Port\", \"Destination IP\"])\n",
    "        else:\n",
    "            df = df.set_axis(features, axis=1)\n",
    "        # split data\n",
    "        df, _ = train_test_split(df, test_size=0.7)\n",
    "        train_df, test_df = train_test_split(df, test_size=0.2)\n",
    "\n",
    "        train_df = train_df.reset_index(drop=True)\n",
    "        test_df = test_df.reset_index(drop=True)\n",
    "\n",
    "        # append data\n",
    "        train = pd.concat([train, train_df])\n",
    "        test = pd.concat([test, test_df])\n",
    "        print(f\"{path}: done\")\n",
    "    \n",
    "    train = train.reset_index(drop=True)\n",
    "    test = test.reset_index(drop=True)\n",
    "    return train, test\n"
   ]
  },
  {
   "cell_type": "code",
   "execution_count": 4,
   "metadata": {},
   "outputs": [
    {
     "name": "stdout",
     "output_type": "stream",
     "text": [
      "raw/cicids2017/Benign-Monday-WorkingHours.pcap_ISCX.csv: done\n",
      "raw/cicids2017/Botnet-Friday-WorkingHours-Morning.pcap_ISCX.csv: done\n",
      "raw/cicids2017/Bruteforce-Tuesday-WorkingHours.pcap_ISCX.csv: done\n",
      "raw/cicids2017/DDoS-Friday-WorkingHours-Afternoon.pcap_ISCX.csv: done\n",
      "raw/cicids2017/DoS-Wednesday-WorkingHours.pcap_ISCX.csv: done\n",
      "raw/cicids2017/Infiltration-Thursday-WorkingHours-Afternoon.pcap_ISCX.csv: done\n",
      "raw/cicids2017/Portscan-Friday-WorkingHours-Afternoon.pcap_ISCX.csv: done\n",
      "raw/cicids2017/WebAttacks-Thursday-WorkingHours-Morning.pcap_ISCX.csv: done\n",
      "--------------cic ids 2017-----------------------\n",
      "-----------------done------------------------\n"
     ]
    }
   ],
   "source": [
    "train_data, test_data = create_dataset(dataset_cicids2017_paths, full_features)\n",
    "print(\"--------------cic ids 2017-----------------------\")\n",
    "train_data.to_csv(\"dataset/cicids2017/train_data.csv\")\n",
    "test_data.to_csv(\"dataset/cicids2017/test_data.csv\")\n",
    "print(\"-----------------done------------------------\")\n"
   ]
  },
  {
   "cell_type": "code",
   "execution_count": 5,
   "metadata": {},
   "outputs": [
    {
     "name": "stdout",
     "output_type": "stream",
     "text": [
      "raw/csecicids2018/02-14-2018.csv: done\n",
      "raw/csecicids2018/02-15-2018.csv: done\n"
     ]
    },
    {
     "name": "stderr",
     "output_type": "stream",
     "text": [
      "/var/folders/d3/7m94kh9j1xg5sc7cx2lk48t00000gn/T/ipykernel_22683/2049211586.py:11: DtypeWarning: Columns (0,1,3,4,5,6,7,8,9,10,11,12,13,14,15,16,17,18,19,20,21,22,23,24,25,26,27,28,29,30,31,32,33,34,35,36,37,38,39,40,41,42,43,44,45,46,47,48,49,50,51,52,53,54,55,56,57,58,59,60,61,62,63,64,65,66,67,68,69,70,71,72,73,74,75,76,77,78) have mixed types. Specify dtype option on import or set low_memory=False.\n",
      "  df = pd.read_csv(abs_path)\n"
     ]
    },
    {
     "name": "stdout",
     "output_type": "stream",
     "text": [
      "raw/csecicids2018/02-16-2018.csv: done\n",
      "raw/csecicids2018/02-20-2018.csv: done\n",
      "raw/csecicids2018/02-21-2018.csv: done\n",
      "raw/csecicids2018/02-22-2018.csv: done\n",
      "raw/csecicids2018/02-23-2018.csv: done\n"
     ]
    },
    {
     "name": "stderr",
     "output_type": "stream",
     "text": [
      "/var/folders/d3/7m94kh9j1xg5sc7cx2lk48t00000gn/T/ipykernel_22683/2049211586.py:11: DtypeWarning: Columns (0,1,3,4,5,6,7,8,9,10,11,12,13,14,15,16,17,18,19,20,21,22,23,24,25,26,27,28,29,30,31,32,33,34,35,36,37,38,39,40,41,42,43,44,45,46,47,48,49,50,51,52,53,54,55,56,57,58,59,60,61,62,63,64,65,66,67,68,69,70,71,72,73,74,75,76,77,78) have mixed types. Specify dtype option on import or set low_memory=False.\n",
      "  df = pd.read_csv(abs_path)\n"
     ]
    },
    {
     "name": "stdout",
     "output_type": "stream",
     "text": [
      "raw/csecicids2018/02-28-2018.csv: done\n"
     ]
    },
    {
     "name": "stderr",
     "output_type": "stream",
     "text": [
      "/var/folders/d3/7m94kh9j1xg5sc7cx2lk48t00000gn/T/ipykernel_22683/2049211586.py:11: DtypeWarning: Columns (0,1,3,4,5,6,7,8,9,10,11,12,13,14,15,16,17,18,19,20,21,22,23,24,25,26,27,28,29,30,31,32,33,34,35,36,37,38,39,40,41,42,43,44,45,46,47,48,49,50,51,52,53,54,55,56,57,58,59,60,61,62,63,64,65,66,67,68,69,70,71,72,73,74,75,76,77,78) have mixed types. Specify dtype option on import or set low_memory=False.\n",
      "  df = pd.read_csv(abs_path)\n"
     ]
    },
    {
     "name": "stdout",
     "output_type": "stream",
     "text": [
      "raw/csecicids2018/03-01-2018.csv: done\n",
      "raw/csecicids2018/03-02-2018.csv: done\n",
      "---------------cse cic ids 2018---------------------\n",
      "-----------------done----------------\n"
     ]
    }
   ],
   "source": [
    "\n",
    "train_data, test_data = create_dataset(dataset_csecicids2018_paths, csecicids2018_features)\n",
    "print(\"---------------cse cic ids 2018---------------------\")\n",
    "train_data.to_csv(\"dataset/csecicids2018/train_data.csv\")\n",
    "test_data.to_csv(\"dataset/csecicids2018/test_data.csv\")\n",
    "print(\"-----------------done----------------\")"
   ]
  },
  {
   "cell_type": "code",
   "execution_count": null,
   "metadata": {},
   "outputs": [],
   "source": []
  }
 ],
 "metadata": {
  "kernelspec": {
   "display_name": ".venv",
   "language": "python",
   "name": "python3"
  },
  "language_info": {
   "codemirror_mode": {
    "name": "ipython",
    "version": 3
   },
   "file_extension": ".py",
   "mimetype": "text/x-python",
   "name": "python",
   "nbconvert_exporter": "python",
   "pygments_lexer": "ipython3",
   "version": "3.13.0"
  }
 },
 "nbformat": 4,
 "nbformat_minor": 2
}
