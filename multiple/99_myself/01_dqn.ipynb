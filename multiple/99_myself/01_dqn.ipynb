{
 "cells": [
  {
   "cell_type": "code",
   "execution_count": 1,
   "metadata": {},
   "outputs": [],
   "source": [
    "from flow_package.multi_flow_env import MultipleFlowEnv, InputType\n",
    "import flow_package as f_p\n",
    "import numpy as np\n",
    "import os\n",
    "import pandas as pd\n",
    "from sklearn.model_selection import train_test_split\n",
    "from imblearn.over_sampling import SMOTENC\n",
    "from glob import glob\n",
    "import dask.dataframe as dd\n",
    "import gc\n",
    "# 必要なインポートを追加\n",
    "import seaborn as sns\n",
    "\n",
    "CONST = f_p.Const()"
   ]
  },
  {
   "cell_type": "code",
   "execution_count": 2,
   "metadata": {},
   "outputs": [
    {
     "name": "stdout",
     "output_type": "stream",
     "text": [
      "/Users/toshi_pro/Documents/github-sub/drl/raw_after_filtered/cicids2017/data/Benign-Monday-WorkingHours.pcap_ISCX.csv_003.csv_002.csv.csvsv.csv\n"
     ]
    },
    {
     "data": {
      "text/plain": [
       "20"
      ]
     },
     "execution_count": 2,
     "metadata": {},
     "output_type": "execute_result"
    }
   ],
   "source": [
    "\n",
    "# TRAIN_PATH = os.path.abspath(\"../../raw_after_filtered/cicids2017/data/Benign-Monday-WorkingHours.pcap_ISCX.csv_0.csv\")\n",
    "# TEST_PATH = os.path.abspath(\"../../raw_after_filtered/cicids2017/data/Benign-Monday-WorkingHours.pcap_ISCX.csv_1.csv\")\n",
    "\n",
    "# train_data = pd.read_csv(TRAIN_PATH)\n",
    "# test_data = pd.read_csv(TEST_PATH)\n",
    "\n",
    "TRAIN_DIR = os.path.abspath(\"../../raw_after_filtered/cicids2017/data\")\n",
    "paths = glob(os.path.join(TRAIN_DIR, \"*.csv\"))\n",
    "\n",
    "df = pd.DataFrame()\n",
    "for path in paths:\n",
    "    print(f\"\\r{path}\", end=\"\")\n",
    "    df = pd.concat([df, pd.read_csv(path, dtype=CONST.dtypes)])\n",
    "print()\n",
    "\n",
    "df = df.dropna(how=\"any\").dropna(axis=1, how=\"any\")\n",
    "df = df.drop(columns=[\"Unnamed: 0\"]).drop_duplicates()\n",
    "\n",
    "test_data = df[df[\"Number Label\"] != 0]\n",
    "\n",
    "TRAIN = \"../../hybrid_sample.csv\"\n",
    "path = os.path.abspath(TRAIN)\n",
    "train_data = pd.read_csv(path).drop(columns=[\"Unnamed: 0\"]).drop_duplicates()\n",
    "\n",
    "del df\n",
    "gc.collect()"
   ]
  },
  {
   "cell_type": "code",
   "execution_count": 3,
   "metadata": {},
   "outputs": [
    {
     "data": {
      "text/plain": [
       "Number Label\n",
       "11    171987\n",
       "1     128011\n",
       "8      90694\n",
       "12     10266\n",
       "5       5931\n",
       "9       5363\n",
       "10      5226\n",
       "6       3153\n",
       "7       1944\n",
       "2       1427\n",
       "3        652\n",
       "14        36\n",
       "4         20\n",
       "13        11\n",
       "Name: count, dtype: int64"
      ]
     },
     "execution_count": 3,
     "metadata": {},
     "output_type": "execute_result"
    }
   ],
   "source": [
    "test_data[\"Number Label\"].value_counts()"
   ]
  },
  {
   "cell_type": "code",
   "execution_count": 4,
   "metadata": {},
   "outputs": [],
   "source": [
    "\n",
    "# TRAIN_PATH = os.path.abspath(\"../../raw_after_filtered/cicids2017/data/Benign-Monday-WorkingHours.pcap_ISCX.csv_0.csv\")\n",
    "# TEST_PATH = os.path.abspath(\"../../raw_after_filtered/cicids2017/data/Benign-Monday-WorkingHours.pcap_ISCX.csv_1.csv\")\n",
    "\n",
    "# train_data = pd.read_csv(TRAIN_PATH)\n",
    "# test_data = pd.read_csv(TEST_PATH)\n",
    "\n",
    "# TRAIN_DIR = os.path.abspath(\"../../raw_after_filtered/csecicids2018/data/\")\n",
    "# paths = glob(os.path.join(TRAIN_DIR, \"*.csv\"))\n",
    "\n",
    "# df = pd.DataFrame()\n",
    "# for path in paths:\n",
    "#     df = pd.concat([df, pd.read_csv(path, dtype=CONST.dtypes)])\n",
    "\n",
    "# df = df.dropna(how=\"any\").dropna(axis=1, how=\"any\")\n",
    "# df = df.drop(columns=[\"Unnamed: 0\"]).drop_duplicates()\n",
    "\n",
    "# train_data, test_data = train_test_split(df, test_size=0.3, random_state=42)\n",
    "# print(train_data[\"Number Label\"].value_counts().sort_index())"
   ]
  },
  {
   "cell_type": "code",
   "execution_count": 5,
   "metadata": {},
   "outputs": [
    {
     "name": "stdout",
     "output_type": "stream",
     "text": [
      "Number Label\n",
      "14    5796\n",
      "1     5796\n",
      "13    5796\n",
      "3     5796\n",
      "4     5795\n",
      "12    5791\n",
      "0     5762\n",
      "7     5745\n",
      "2     5716\n",
      "8     5611\n",
      "10    5521\n",
      "9     5365\n",
      "11    4499\n",
      "5     4441\n",
      "6     3100\n",
      "Name: count, dtype: int64\n"
     ]
    },
    {
     "name": "stderr",
     "output_type": "stream",
     "text": [
      "/Users/toshi_pro/Documents/github-sub/drl/.venv/lib/python3.9/site-packages/sklearn/base.py:484: FutureWarning: `BaseEstimator._check_n_features` is deprecated in 1.6 and will be removed in 1.7. Use `sklearn.utils.validation._check_n_features` instead.\n",
      "  warnings.warn(\n",
      "/Users/toshi_pro/Documents/github-sub/drl/.venv/lib/python3.9/site-packages/sklearn/base.py:493: FutureWarning: `BaseEstimator._check_feature_names` is deprecated in 1.6 and will be removed in 1.7. Use `sklearn.utils.validation._check_feature_names` instead.\n",
      "  warnings.warn(\n"
     ]
    },
    {
     "name": "stdout",
     "output_type": "stream",
     "text": [
      "Number Label\n",
      "14    5796\n",
      "10    5796\n",
      "6     5796\n",
      "7     5796\n",
      "0     5796\n",
      "4     5796\n",
      "11    5796\n",
      "1     5796\n",
      "12    5796\n",
      "5     5796\n",
      "9     5796\n",
      "2     5796\n",
      "13    5796\n",
      "8     5796\n",
      "3     5796\n",
      "Name: count, dtype: int64\n"
     ]
    }
   ],
   "source": [
    "print(train_data[\"Number Label\"].value_counts())\n",
    "\n",
    "smote = SMOTENC(categorical_features=[\"Protocol\", \"Destination Port\"],random_state=42, sampling_strategy=\"auto\", k_neighbors=3)\n",
    "x_smote, y_smote = smote.fit_resample(\n",
    "    train_data.drop(columns=[\"Number Label\"]), train_data[\"Number Label\"]\n",
    ")\n",
    "train_data = pd.concat([x_smote, y_smote], axis=1)\n",
    "print(train_data[\"Number Label\"].value_counts())"
   ]
  },
  {
   "cell_type": "code",
   "execution_count": 6,
   "metadata": {},
   "outputs": [],
   "source": [
    "train_input = InputType(\n",
    "    input_features=train_data.drop(columns=[\"Number Label\"]),\n",
    "    input_labels=train_data[\"Number Label\"],\n",
    "    reward_list=[1.0, -1.0],\n",
    "    type_env=None\n",
    ")\n",
    "train_env = MultipleFlowEnv(train_input)\n",
    "\n",
    "test_input = InputType(\n",
    "    input_features=test_data.drop(columns=[\"Number Label\"]),\n",
    "    input_labels=test_data[\"Number Label\"],\n",
    "    reward_list=[1.0, -1.0],\n",
    "    type_env=\"test\"\n",
    ")\n",
    "test_env = MultipleFlowEnv(test_input)"
   ]
  },
  {
   "cell_type": "code",
   "execution_count": 7,
   "metadata": {},
   "outputs": [],
   "source": [
    "import matplotlib\n",
    "import random\n",
    "\n",
    "from collections import deque, namedtuple\n",
    "from itertools import count\n",
    "\n",
    "import matplotlib.pyplot as plt\n",
    "import numpy as np\n",
    "import torch\n",
    "import torch.nn as nn\n",
    "import torch.nn.functional as F\n",
    "import torch.nn.utils as utils\n",
    "import torch.optim as optim\n",
    "\n",
    "is_ipython = 'inline' in matplotlib.get_backend()\n",
    "if is_ipython:\n",
    "    from IPython import display"
   ]
  },
  {
   "cell_type": "code",
   "execution_count": 8,
   "metadata": {},
   "outputs": [
    {
     "name": "stdout",
     "output_type": "stream",
     "text": [
      "device: cpu\n"
     ]
    }
   ],
   "source": [
    "device_name = \"cpu\"\n",
    "\n",
    "if False:\n",
    "    if torch.cuda.is_available():\n",
    "        device_name = \"cuda\"\n",
    "    elif torch.mps.is_available():\n",
    "        device_name = \"mps\"\n",
    "    # elif torch.hip.is_available():\n",
    "    #     device_name = \"hip\"\n",
    "    elif torch.mtia.is_available():\n",
    "        device_name = \"mtia\"\n",
    "    elif torch.xpu.is_available():\n",
    "        device_name = \"xpu\"\n",
    "\n",
    "device = torch.device(device_name)\n",
    "print(f\"device: {device_name}\")"
   ]
  },
  {
   "cell_type": "code",
   "execution_count": 9,
   "metadata": {},
   "outputs": [],
   "source": [
    "Transaction = namedtuple('Transaction', ('state', 'action', 'next_state', 'reward'))\n",
    "\n",
    "class ReplayMemory(object):\n",
    "    def __init__(self, capacity):\n",
    "        # self.capacity = capacity\n",
    "        self.memory = deque([], maxlen=capacity)\n",
    "\n",
    "    def push(self, *args):\n",
    "        self.memory.append(Transaction(*args))\n",
    "\n",
    "    def sample(self, batch_size):\n",
    "        return random.sample(self.memory, batch_size)\n",
    "\n",
    "    def __len__(self):\n",
    "        return len(self.memory)"
   ]
  },
  {
   "cell_type": "code",
   "execution_count": 10,
   "metadata": {},
   "outputs": [],
   "source": [
    "def moving_average(data, window_size):\n",
    "    weights = np.ones(window_size) / window_size\n",
    "    return np.convolve(data, weights, mode='valid')\n",
    "\n",
    "def plot_graph(data: list, show_result=False):\n",
    "    plt.figure(figsize=(15,5))\n",
    "    # durations_t = torch.tensor(episode_durations, dtype=torch.float)\n",
    "\n",
    "    if show_result:\n",
    "        plt.title(\"Result\")\n",
    "    else:\n",
    "        plt.clf()\n",
    "        plt.title(\"Training...\")\n",
    "    \n",
    "    means = moving_average(data, 100)\n",
    "    lines = np.full(len(means), 1/15)\n",
    "\n",
    "    first = len(data) - len(means)\n",
    "    if first < 0:\n",
    "        first = 0\n",
    "    else:\n",
    "        means = np.concatenate((np.full(first, np.nan), means))\n",
    "        lines = np.concatenate((np.full(first, np.nan), lines))\n",
    "\n",
    "    plt.plot(lines, color=\"blue\", linestyle=\"--\")\n",
    "\n",
    "    plt.xlabel(\"Episode\")\n",
    "    plt.ylabel(\"ratio\")\n",
    "    # plt.plot(data, color=\"purple\", alpha=0.5)\n",
    "    plt.plot(means, color=\"red\")\n",
    "    plt.grid()\n",
    "\n",
    "    plt.pause(0.001)\n",
    "    if is_ipython:\n",
    "        if not show_result:\n",
    "            display.display(plt.gcf())\n",
    "            display.clear_output(wait=True)\n",
    "        else:\n",
    "            display.display(plt.gcf())"
   ]
  },
  {
   "cell_type": "code",
   "execution_count": 11,
   "metadata": {},
   "outputs": [],
   "source": [
    "def plot_metrics(metrics_dict: dict, show_result=False):\n",
    "    fig = plt.figure(figsize=(16, 20))\n",
    "\n",
    "    ac = fig.add_subplot(5, 1, 1)\n",
    "    ac.plot(metrics_dict[\"accuracy\"], label=\"accuracy\")\n",
    "    ac.grid()\n",
    "    ac.set_title(\"Accuracy\")\n",
    "\n",
    "    pr = fig.add_subplot(5, 1, 2)\n",
    "    pr.plot(metrics_dict[\"precision\"], label=\"precision\", color=\"green\")\n",
    "    pr.grid()\n",
    "    pr.set_title(\"Precision\")\n",
    "\n",
    "    re = fig.add_subplot(5, 1, 3)\n",
    "    re.plot(metrics_dict[\"recall\"], label=\"recall\", color=\"red\")\n",
    "    re.grid()\n",
    "    re.set_title(\"Recall\")\n",
    "\n",
    "    f1 = fig.add_subplot(5, 1, 4)\n",
    "    f1.plot(metrics_dict[\"f1\"], label=\"f1\", color=\"black\")\n",
    "    f1.grid()\n",
    "    f1.set_title(\"F1\")\n",
    "\n",
    "    fpr = fig.add_subplot(5, 1, 5)\n",
    "    fpr.plot(metrics_dict[\"fpr\"], label=\"fpr\", color=\"purple\")\n",
    "    fpr.grid()\n",
    "    fpr.set_title(\"FPR\")\n",
    "\n",
    "    plt.tight_layout()\n",
    "    plt.pause(0.001)\n",
    "    if is_ipython:\n",
    "        if not show_result:\n",
    "            display.display(plt.gcf())\n",
    "            display.clear_output(wait=True)\n",
    "        else:\n",
    "            display.display(plt.gcf())\n",
    "\n",
    "\n",
    "def calculate_metrics(tp, tn, fp, fn):\n",
    "    accuracy = (tp + tn) / (tp + fp + fn + tn)\n",
    "    precision = tp / (tp + fp) if tp + fp != 0 else -1\n",
    "    recall = tp / (tp + fn) if tp + fn != 0 else -1\n",
    "    f1 = 2 * precision * recall / (precision + recall) if precision + recall != 0 else None\n",
    "    fpr = fp / (fp + tn) if fp + tn != 0 else None\n",
    "\n",
    "    if precision < 0:\n",
    "        precision = None\n",
    "    if recall < 0:\n",
    "        recall = None\n",
    "    return accuracy, precision, recall, f1, fpr"
   ]
  },
  {
   "cell_type": "code",
   "execution_count": 12,
   "metadata": {},
   "outputs": [],
   "source": [
    "PORT_DIM = 32\n",
    "class DeepFlowNetwork(nn.Module):\n",
    "    def __init__(self, n_inputs, n_outputs):\n",
    "        super(DeepFlowNetwork, self).__init__()\n",
    "\n",
    "        self.protocol_embedding = nn.Embedding(256, 8) # -> 8\n",
    "        self.port_embedding = nn.Embedding(65536, PORT_DIM) # -> 8\n",
    "        # other inputs are not embedding: n_inputs - 2\n",
    "\n",
    "        # all inputs: n_inputs - 2 + 8 + 8 = n_inputs + 14\n",
    "        n_inputs = n_inputs + 6 + PORT_DIM\n",
    "\n",
    "        self.fc1 = nn.Linear(n_inputs, 256)\n",
    "        self.fc2 = nn.Linear(256, 256)\n",
    "        self.fc3 = nn.Linear(256, n_outputs)\n",
    "\n",
    "    def forward(self, x):\n",
    "        port_emb = self.port_embedding(x[0].long())\n",
    "        protocol_emb = self.protocol_embedding(x[1].long())\n",
    "\n",
    "        # print(port_emb.shape, protocol_emb.shape, x[2].shape)\n",
    "\n",
    "        renew = torch.cat([port_emb, protocol_emb, x[2]], dim=1)\n",
    "\n",
    "        renew = F.relu(self.fc1(renew))\n",
    "        renew = F.relu(self.fc2(renew))\n",
    "        return self.fc3(renew)"
   ]
  },
  {
   "cell_type": "code",
   "execution_count": 13,
   "metadata": {},
   "outputs": [],
   "source": [
    "UPDATE_TARGET_STEPS = 200\n",
    "BATCH_SIZE = 64\n",
    "GAMMA = 0.99\n",
    "EPS_START = 0.9\n",
    "EPS_END = 0.05\n",
    "EPS_DECAY = 100000\n",
    "TAU = 0.005\n",
    "LR = 1e-5"
   ]
  },
  {
   "cell_type": "code",
   "execution_count": 14,
   "metadata": {},
   "outputs": [],
   "source": [
    "num_episodes = 1000"
   ]
  },
  {
   "cell_type": "code",
   "execution_count": 15,
   "metadata": {},
   "outputs": [],
   "source": [
    "n_actions = train_env.action_space.n\n",
    "n_inputs = train_env.observation_space.shape[0]\n",
    "\n",
    "# print(f\"n_inputs: {n_inputs}, n_actions: {n_actions}\")\n",
    "\n",
    "state = train_env.reset()\n",
    "# print(info)\n",
    "\n",
    "policy_net = DeepFlowNetwork(n_inputs, n_actions).to(device)\n",
    "target_net = DeepFlowNetwork(n_inputs, n_actions).to(device)\n",
    "target_net.load_state_dict(policy_net.state_dict())\n",
    "\n",
    "optimizer = optim.SGD(policy_net.parameters(), lr=LR)\n",
    "steps_done = 0\n",
    "\n",
    "memory = ReplayMemory(10000)\n",
    "episode_rewards = []\n",
    "episode_precision = []"
   ]
  },
  {
   "cell_type": "code",
   "execution_count": 16,
   "metadata": {},
   "outputs": [],
   "source": [
    "def select_action(state_tensor: torch.Tensor):\n",
    "    # print(f\"state_tensor: {state_tensor[0,1]}\")\n",
    "    global steps_done\n",
    "    sample = random.random()\n",
    "    eps_threshold = EPS_END + (EPS_START - EPS_END) * np.exp(-1. * steps_done / EPS_DECAY)\n",
    "    steps_done += 1\n",
    "\n",
    "    if sample > eps_threshold:\n",
    "        with torch.no_grad():\n",
    "            # print(policy_net(state_tensor))\n",
    "            # print(policy_net(state_tensor).max(1))\n",
    "            return policy_net(state_tensor).max(1).indices.view(1, 1)\n",
    "    else:\n",
    "        return torch.tensor([[random.randrange(n_actions)]], dtype=torch.long, device=device)\n",
    "\n",
    "def optimize_model():\n",
    "    if len(memory) < BATCH_SIZE:\n",
    "        return\n",
    "\n",
    "    transitions = memory.sample(BATCH_SIZE)\n",
    "    batch = Transaction(*zip(*transitions))\n",
    "\n",
    "    non_final_mask = torch.tensor(\n",
    "        tuple(map(lambda s: s is not None, batch.next_state)),\n",
    "        device=device,\n",
    "        dtype=torch.bool\n",
    "    )\n",
    "    # non_final_next_states = torch.cat([s for s in batch.next_state if s is not None])\n",
    "\n",
    "    # print(batch.state[0])\n",
    "    state_batch_port = torch.cat([s[0] for s in batch.state])\n",
    "    state_batch_protocol = torch.cat([s[1] for s in batch.state])\n",
    "    state_batch_other = torch.cat([s[2] for s in batch.state])\n",
    "\n",
    "    state_batch = [state_batch_port, state_batch_protocol, state_batch_other]\n",
    "    action_batch = torch.cat(batch.action)\n",
    "    reward_batch = torch.cat(batch.reward)\n",
    "\n",
    "    state_action_values = policy_net(state_batch).gather(1, action_batch)\n",
    "\n",
    "    next_state_values = torch.zeros(BATCH_SIZE, device=device)\n",
    "    # non_final_next_states も同様に処理\n",
    "    non_final_next_states_port = torch.cat([s[0] for s in batch.next_state if s is not None])\n",
    "    non_final_next_states_protocol = torch.cat([s[1] for s in batch.next_state if s is not None])\n",
    "    non_final_next_states_features = torch.cat([s[2] for s in batch.next_state if s is not None])\n",
    "    non_final_next_states = [non_final_next_states_port, non_final_next_states_protocol, non_final_next_states_features]\n",
    "    \n",
    "    with torch.no_grad():\n",
    "        next_state_values[non_final_mask] = target_net(non_final_next_states).max(1).values\n",
    "\n",
    "    expected_state_action_values = reward_batch + GAMMA * next_state_values\n",
    "\n",
    "    criterion = nn.MSELoss()\n",
    "    loss = criterion(state_action_values, expected_state_action_values.unsqueeze(1))\n",
    "\n",
    "    optimizer.zero_grad()\n",
    "    loss.backward()\n",
    "    utils.clip_grad_value_(policy_net.parameters(), 1000)\n",
    "    optimizer.step()"
   ]
  },
  {
   "cell_type": "code",
   "execution_count": 17,
   "metadata": {},
   "outputs": [
    {
     "data": {
      "text/plain": [
       "<Figure size 640x480 with 0 Axes>"
      ]
     },
     "metadata": {},
     "output_type": "display_data"
    },
    {
     "data": {
      "image/png": "[encoded data removed]",
      "text/plain": [
       "<Figure size 1500x500 with 1 Axes>"
      ]
     },
     "metadata": {},
     "output_type": "display_data"
    },
    {
     "data": {
      "text/plain": [
       "<Figure size 640x480 with 0 Axes>"
      ]
     },
     "metadata": {},
     "output_type": "display_data"
    },
    {
     "name": "stdout",
     "output_type": "stream",
     "text": [
      "[6463 6554 6609 6495 6499 6422 6357 6521 6594 6471 6502 6623 6494 6459\n",
      " 6485]\n"
     ]
    },
    {
     "data": {
      "text/plain": [
       "<Figure size 640x480 with 0 Axes>"
      ]
     },
     "metadata": {},
     "output_type": "display_data"
    }
   ],
   "source": [
    "test = np.zeros(n_actions, dtype=int)\n",
    "for i_episode in range(num_episodes):\n",
    "    # Initialize the environment and state\n",
    "    random.seed(i_episode)\n",
    "    sum_reward = 0\n",
    "    confusion_matrix = np.zeros((2,2), dtype=int)\n",
    "\n",
    "    initial_state = train_env.reset()\n",
    "    # state = torch.tensor(initial_state, device=device, dtype=torch.float32).unsqueeze(0)\n",
    "    state = f_p.to_tensor(initial_state)\n",
    "\n",
    "    for t in count():\n",
    "        # select action\n",
    "        action = select_action(state)\n",
    "\n",
    "        # print(action)\n",
    "        # calculate next state\n",
    "        raw_next_state, reward, terminated, truncated, info = train_env.step(action.item())\n",
    "        row_column_index = info[\"matrix_position\"]\n",
    "        confusion_matrix[row_column_index[0], row_column_index[1]] += 1\n",
    "        test[info[\"answer\"]] += 1\n",
    "        # print(info)\n",
    "\n",
    "        # to tensor\n",
    "        if terminated:\n",
    "            next_state = None\n",
    "        else:\n",
    "            # next_state = torch.tensor(raw_next_state, device=device, dtype=torch.float32).unsqueeze(0)\n",
    "            next_state = f_p.to_tensor(raw_next_state)\n",
    "        reward = torch.tensor([reward], device=device, dtype=torch.float32)\n",
    "\n",
    "        # store the transition in memory\n",
    "        memory.push(state, action, next_state, reward)\n",
    "        sum_reward += reward.item() if reward.item() == 1 else 0\n",
    "\n",
    "        # move to the next state\n",
    "        state = next_state\n",
    "\n",
    "        # optimize the model\n",
    "        # print(\"optimize_model\")\n",
    "        optimize_model()\n",
    "\n",
    "        if terminated:\n",
    "            episode_rewards.append(sum_reward / (t + 1))\n",
    "            break\n",
    "\n",
    "    # do after the episode\n",
    "    # episode_rewards.append(sum_reward)\n",
    "    base = confusion_matrix[1, 1] + confusion_matrix[1, 0]\n",
    "    episode_precision.append(\n",
    "        confusion_matrix[1, 1] / base if base != 0 else 0\n",
    "    )\n",
    "    # print(i_episode)\n",
    "    if i_episode > 0 and i_episode % 10 == 0:\n",
    "        print(test)\n",
    "        plot_graph(episode_precision)\n",
    "\n",
    "# complete the episode\n",
    "plot_graph(episode_precision, show_result=True)\n",
    "torch.save(policy_net.state_dict(), \"re_01_dqn_cic.pth\")  # save the model\n",
    "\n",
    "print(test)\n",
    "train_env.close()"
   ]
  },
  {
   "cell_type": "code",
   "execution_count": null,
   "metadata": {},
   "outputs": [],
   "source": [
    "def plot_confusion_matrix(confusion_array, class_names=None, show_result=False):\n",
    "    \"\"\"\n",
    "    混同行列をヒートマップとして表示する関数\n",
    "    \n",
    "    Parameters:\n",
    "    -----------\n",
    "    confusion_array : numpy.ndarray\n",
    "        表示する混同行列\n",
    "    class_names : list, optional\n",
    "        クラス名のリスト。指定しない場合はインデックスが使用される\n",
    "    \"\"\"\n",
    "\n",
    "    plt.figure(figsize=(10, 8))\n",
    "    \n",
    "    if show_result:\n",
    "        plt.title(\"Result\")\n",
    "    else:\n",
    "        plt.clf()\n",
    "        plt.title(f\"Testing...\")\n",
    "\n",
    "    if class_names is None:\n",
    "        class_names = [f'Class {i}' for i in range(len(confusion_array))]\n",
    "    \n",
    "    # ヒートマップの作成\n",
    "    sns.heatmap(\n",
    "        confusion_array, \n",
    "        annot=True, \n",
    "        fmt='d',\n",
    "        cmap='Blues',\n",
    "        xticklabels=class_names,\n",
    "        yticklabels=class_names\n",
    "    )\n",
    "    \n",
    "    plt.ylabel('Predicted')\n",
    "    plt.xlabel('Actual')\n",
    "    \n",
    "    # 軸ラベルの方向を修正\n",
    "    plt.xticks(rotation=45)\n",
    "    plt.yticks(rotation=45)\n",
    "    \n",
    "    plt.tight_layout()\n",
    "    plt.grid()\n",
    "\n",
    "    plt.pause(0.001)\n",
    "    if is_ipython:\n",
    "        if not show_result:\n",
    "            display.display(plt.gcf())\n",
    "            display.clear_output(wait=True)\n",
    "        else:\n",
    "            display.display(plt.gcf())"
   ]
  },
  {
   "cell_type": "code",
   "execution_count": 23,
   "metadata": {},
   "outputs": [
    {
     "name": "stdout",
     "output_type": "stream",
     "text": [
      "[0, 0, 0, 0, 0, 0, 0, 0, 0, 0, 0, 0, 0, 0, 0],\n",
      "[0, 0, 0, 0, 0, 0, 0, 0, 0, 0, 0, 0, 0, 0, 0],\n",
      "[0, 0, 0, 0, 0, 0, 0, 0, 0, 0, 0, 0, 0, 0, 0],\n",
      "[0, 0, 0, 0, 0, 0, 0, 0, 0, 0, 0, 0, 0, 0, 0],\n",
      "[0, 0, 0, 0, 0, 0, 0, 0, 0, 0, 0, 0, 0, 0, 0],\n",
      "[0, 0, 0, 0, 0, 0, 0, 0, 0, 0, 0, 0, 0, 0, 0],\n",
      "[0, 0, 0, 0, 0, 0, 0, 0, 0, 0, 0, 0, 0, 0, 0],\n",
      "[0, 0, 0, 0, 0, 0, 0, 0, 0, 0, 0, 0, 0, 0, 0],\n",
      "[0, 0, 0, 0, 0, 0, 0, 0, 0, 0, 0, 0, 0, 0, 0],\n",
      "[0, 0, 0, 0, 0, 0, 0, 0, 0, 0, 0, 0, 0, 0, 0],\n",
      "[0, 0, 0, 0, 0, 0, 0, 0, 0, 0, 0, 0, 0, 0, 0],\n",
      "[0, 0, 0, 0, 0, 0, 0, 0, 0, 0, 0, 0, 0, 0, 0],\n",
      "[0, 0, 0, 0, 0, 0, 0, 0, 0, 0, 0, 0, 0, 0, 0],\n",
      "[0, 0, 0, 0, 0, 0, 0, 0, 0, 0, 0, 0, 0, 0, 0],\n",
      "[0, 128011, 1427, 652, 20, 5931, 3153, 1944, 90694, 5363, 5226, 171987, 10266, 11, 36],\n"
     ]
    },
    {
     "data": {
      "image/png": "[encoded data removed]",
      "text/plain": [
       "<Figure size 640x480 with 1 Axes>"
      ]
     },
     "metadata": {},
     "output_type": "display_data"
    },
    {
     "data": {
      "image/png": "[encoded data removed]",
      "text/plain": [
       "<Figure size 1000x800 with 2 Axes>"
      ]
     },
     "metadata": {},
     "output_type": "display_data"
    },
    {
     "data": {
      "text/plain": [
       "<Figure size 640x480 with 0 Axes>"
      ]
     },
     "metadata": {},
     "output_type": "display_data"
    },
    {
     "data": {
      "text/plain": [
       "<Figure size 640x480 with 0 Axes>"
      ]
     },
     "metadata": {},
     "output_type": "display_data"
    }
   ],
   "source": [
    "MODEL_PATH = \"re_01_dqn_cic.pth\"\n",
    "\n",
    "# load the model\n",
    "trained_network = DeepFlowNetwork(n_inputs=n_inputs, n_outputs=n_actions).to(device)\n",
    "trained_network.load_state_dict(torch.load(MODEL_PATH, map_location=device, weights_only=True))\n",
    "trained_network.eval()\n",
    "\n",
    "# test the model\n",
    "counts = test_data[\"Number Label\"].value_counts()\n",
    "\n",
    "confusion_array = np.zeros(\n",
    "    (n_actions, n_actions),\n",
    "    dtype=np.int32\n",
    ")\n",
    "\n",
    "metrics_dictionary = {\n",
    "    \"accuracy\": [],\n",
    "    \"precision\": [],\n",
    "    \"recall\": [],\n",
    "    \"f1\": [],\n",
    "    \"fpr\": []\n",
    "}\n",
    "\n",
    "for i_loop in range(1):\n",
    "    random.seed(i_loop)\n",
    "    test_raw_state = test_env.reset()\n",
    "    try:\n",
    "        test_state = f_p.to_tensor(test_raw_state)\n",
    "    except:\n",
    "        raise print(test_raw_state)\n",
    "    for t in count():\n",
    "        with torch.no_grad():\n",
    "            test_action = trained_network(test_state).max(1).indices.view(1, 1)\n",
    "\n",
    "        test_raw_next_state, test_reward, test_terminated, test_truncated, test_info = test_env.step(test_action.item())\n",
    "        # print(test_info)\n",
    "\n",
    "        # calculate confusion matrix\n",
    "        raw = 0 if test_reward == 1 else 1\n",
    "\n",
    "        # test_info = (row, column) means confusion matrix index\n",
    "        action = test_info[\"action\"]\n",
    "        answer = test_info[\"answer\"]\n",
    "        confusion_array[action, answer] += 1\n",
    "\n",
    "        # print(index)\n",
    "\n",
    "        if test_terminated:\n",
    "            break\n",
    "\n",
    "        # make next state tensor and update state\n",
    "        #test_state = torch.tensor(test_raw_next_state, device=device, dtype=torch.float32).unsqueeze(0)\n",
    "        test_state = f_p.to_tensor(test_raw_next_state)\n",
    "\n",
    "        if t % 1000 == 0:\n",
    "            plot_confusion_matrix(confusion_array)\n",
    "\n",
    "    # calculate metrics\n",
    "    # tp = confusion_array[1, 1]\n",
    "    # tn = confusion_array[0, 0]\n",
    "    # fp = confusion_array[1, 0]\n",
    "    # fn = confusion_array[0, 1]\n",
    "    # print(f\"{i_loop + 1:5}, {tp:7}, {tn:7}, {fp:7}, {fn:7}\")\n",
    "\n",
    "    # accuracy, precision, recall, f1, fpr = calculate_metrics(tp, tn, fp, fn)\n",
    "    # metrics_dictionary[\"accuracy\"].append(accuracy)\n",
    "    # metrics_dictionary[\"precision\"].append(precision)\n",
    "    # metrics_dictionary[\"recall\"].append(recall)\n",
    "    # metrics_dictionary[\"f1\"].append(f1)\n",
    "    # metrics_dictionary[\"fpr\"].append(fpr)\n",
    "    # # print(accuracy, precision, recall, f1, fpr)\n",
    "\n",
    "for i in range(n_actions):\n",
    "    print(\"[\", end=\"\")\n",
    "    for j in range(n_actions):\n",
    "        if j == n_actions - 1:\n",
    "            print(confusion_array[i, j], end=\"\")\n",
    "        else:\n",
    "            print(confusion_array[i, j], end=\", \")\n",
    "    print(\"],\")\n",
    "\n",
    "plot_confusion_matrix(confusion_array, show_result=True)\n",
    "\n",
    "    # if i_loop % 50 == 0:\n",
    "    #     print(f\"{i_loop + 1:5}, {tp:7}, {tn:7}, {fp:7}, {fn:7}\")\n",
    "\n",
    "# plot metrics\n",
    "# plot_metrics(metrics_dictionary, show_result=True)\n",
    "# print(f\" accuracy: {metrics_dictionary['accuracy'][-1]}\")\n",
    "# print(f\"precision: {metrics_dictionary['precision'][-1]}\")\n",
    "# print(f\"  recall : {metrics_dictionary['recall'][-1]}\")\n",
    "# print(f\"    f1   : {metrics_dictionary['f1'][-1]}\")\n",
    "# print(f\"   fpr   : {metrics_dictionary['fpr'][-1]}\")"
   ]
  },
  {
   "cell_type": "code",
   "execution_count": null,
   "metadata": {},
   "outputs": [],
   "source": [
    "print(f\" accuracy: {metrics_dictionary['accuracy'][-1]}\")\n",
    "print(f\"precision: {metrics_dictionary['precision'][-1]}\")\n",
    "print(f\"  recall : {metrics_dictionary['recall'][-1]}\")\n",
    "print(f\"    f1   : {metrics_dictionary['f1'][-1]}\")\n",
    "print(f\"   fpr   : {metrics_dictionary['fpr'][-1]}\")"
   ]
  },
  {
   "cell_type": "code",
   "execution_count": null,
   "metadata": {},
   "outputs": [],
   "source": [
    "confusion_matrix"
   ]
  },
  {
   "cell_type": "code",
   "execution_count": null,
   "metadata": {},
   "outputs": [],
   "source": [
    "test_data.sample(2)"
   ]
  },
  {
   "cell_type": "code",
   "execution_count": null,
   "metadata": {},
   "outputs": [],
   "source": [
    "CONSTANCE = 100000\n",
    "train_len = len(train_data)\n",
    "#for i, length in enumerate(range(0, train_len, CONSTANCE)):\n",
    "#    if train_len < i + CONSTANCE:\n",
    "#        train_data[i:i+CONSTANSE].to_csv(f\"./bi_smote/train/train_{i:03}.csv\")\n",
    "#    else:\n",
    "#        train_data[i:].to_csv(f\"./bi_smote/train/train_{i:03}.csv\")\n",
    "\n",
    "test_len = len(test_data)\n",
    "#for j, _length in enumerate(range(0, test_len, CONSTANCE)):\n",
    "#    if test_len < i + CONSTANCE:\n",
    "#        test_data[i:i+CONSTANSE].to_csv(f\"./bi_smote/test/test_{i:03}.csv\")\n",
    "#    else:\n",
    "#        test_data[i:].to_csv(f\"./bi_smote/test/test_{i:03}.csv\")"
   ]
  },
  {
   "cell_type": "code",
   "execution_count": null,
   "metadata": {},
   "outputs": [],
   "source": [
    "state = train_env.reset()"
   ]
  },
  {
   "cell_type": "code",
   "execution_count": null,
   "metadata": {},
   "outputs": [],
   "source": [
    "print(state)"
   ]
  },
  {
   "cell_type": "code",
   "execution_count": null,
   "metadata": {},
   "outputs": [],
   "source": [
    "print(type(state))\n",
    "state_tensor = f_p.to_tensor(state.astype(float))\n",
    "print(trained_network(state_tensor))"
   ]
  },
  {
   "cell_type": "code",
   "execution_count": null,
   "metadata": {},
   "outputs": [],
   "source": [
    "port = np.int64(state[1])\n",
    "protocol = np.int64(state[2])\n",
    "other = np.insert(state[3:], 0, state[0])\n",
    "\n",
    "tensor_port = torch.tensor([port], dtype=torch.long)\n",
    "tensor_protocol = torch.tensor([protocol], dtype=torch.long)\n",
    "tensor_other = torch.tensor(other, dtype=torch.float32).unsqueeze(0)"
   ]
  },
  {
   "cell_type": "code",
   "execution_count": null,
   "metadata": {},
   "outputs": [],
   "source": [
    "print(tensor_other)"
   ]
  },
  {
   "cell_type": "code",
   "execution_count": null,
   "metadata": {},
   "outputs": [],
   "source": []
  }
 ],
 "metadata": {
  "kernelspec": {
   "display_name": ".venv",
   "language": "python",
   "name": "python3"
  },
  "language_info": {
   "codemirror_mode": {
    "name": "ipython",
    "version": 3
   },
   "file_extension": ".py",
   "mimetype": "text/x-python",
   "name": "python",
   "nbconvert_exporter": "python",
   "pygments_lexer": "ipython3",
   "version": "3.9.6"
  }
 },
 "nbformat": 4,
 "nbformat_minor": 4
}
